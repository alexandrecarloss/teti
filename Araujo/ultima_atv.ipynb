{
 "cells": [
  {
   "cell_type": "code",
   "execution_count": 3,
   "id": "a36a7ad6-96c2-4384-a518-c59b04f056cf",
   "metadata": {},
   "outputs": [],
   "source": [
    "from ultralytics import YOLO"
   ]
  },
  {
   "cell_type": "code",
   "execution_count": 29,
   "id": "ff330af1-fb48-406a-b6e5-01f4df230e19",
   "metadata": {},
   "outputs": [],
   "source": [
    "import cv2"
   ]
  },
  {
   "cell_type": "code",
   "execution_count": 93,
   "id": "a5d66e62-090b-497f-a5f9-797058c465e4",
   "metadata": {},
   "outputs": [],
   "source": [
    "path = \"E:/visao_am/imagens/videos/\""
   ]
  },
  {
   "cell_type": "code",
   "execution_count": 12,
   "id": "4b39bcf5-9976-4ee3-957e-d5d507294111",
   "metadata": {},
   "outputs": [
    {
     "name": "stdout",
     "output_type": "stream",
     "text": [
      "Downloading https://github.com/ultralytics/assets/releases/download/v8.2.0/yolov10n.pt to 'yolov10n.pt'...\n"
     ]
    },
    {
     "name": "stderr",
     "output_type": "stream",
     "text": [
      "100%|█████████████████████████████████████████████████████████████████████████████| 5.59M/5.59M [00:01<00:00, 4.62MB/s]\n"
     ]
    }
   ],
   "source": [
    "modelo = YOLO(\"yolov10n.pt\")"
   ]
  },
  {
   "cell_type": "code",
   "execution_count": 38,
   "id": "b78373ca-bd1d-489c-858d-6a7907211b7c",
   "metadata": {},
   "outputs": [
    {
     "name": "stdin",
     "output_type": "stream",
     "text": [
      "Qual a classe? car\n"
     ]
    }
   ],
   "source": [
    "op = input('Qual a classe?')"
   ]
  },
  {
   "cell_type": "code",
   "execution_count": 18,
   "id": "68f06508-f947-4573-ab97-4b1e8af42fc5",
   "metadata": {},
   "outputs": [],
   "source": [
    "classes = modelo.names.values()"
   ]
  },
  {
   "cell_type": "code",
   "execution_count": 16,
   "id": "03607432-9f3c-4725-bb23-b327b353575b",
   "metadata": {},
   "outputs": [
    {
     "data": {
      "text/plain": [
       "dict_values(['person', 'bicycle', 'car', 'motorcycle', 'airplane', 'bus', 'train', 'truck', 'boat', 'traffic light', 'fire hydrant', 'stop sign', 'parking meter', 'bench', 'bird', 'cat', 'dog', 'horse', 'sheep', 'cow', 'elephant', 'bear', 'zebra', 'giraffe', 'backpack', 'umbrella', 'handbag', 'tie', 'suitcase', 'frisbee', 'skis', 'snowboard', 'sports ball', 'kite', 'baseball bat', 'baseball glove', 'skateboard', 'surfboard', 'tennis racket', 'bottle', 'wine glass', 'cup', 'fork', 'knife', 'spoon', 'bowl', 'banana', 'apple', 'sandwich', 'orange', 'broccoli', 'carrot', 'hot dog', 'pizza', 'donut', 'cake', 'chair', 'couch', 'potted plant', 'bed', 'dining table', 'toilet', 'tv', 'laptop', 'mouse', 'remote', 'keyboard', 'cell phone', 'microwave', 'oven', 'toaster', 'sink', 'refrigerator', 'book', 'clock', 'vase', 'scissors', 'teddy bear', 'hair drier', 'toothbrush'])"
      ]
     },
     "execution_count": 16,
     "metadata": {},
     "output_type": "execute_result"
    }
   ],
   "source": [
    "classes"
   ]
  },
  {
   "cell_type": "code",
   "execution_count": 63,
   "id": "8b7b74b6-91c0-4f93-b87a-1f4e2b12db83",
   "metadata": {},
   "outputs": [],
   "source": [
    "def verifica(op):\n",
    "    return (op in classes)"
   ]
  },
  {
   "cell_type": "code",
   "execution_count": 108,
   "id": "5720175e-1260-410d-9adf-ac1ed00f2a1d",
   "metadata": {},
   "outputs": [],
   "source": [
    "def v_2 (cap, op):\n",
    "    aux = 0\n",
    "    while True:\n",
    "        \n",
    "        ret, frame = cap.read()\n",
    "        if not ret:\n",
    "            break   \n",
    "        frame = cv2.resize(frame, (640, 480))\n",
    "        results = modelo(frame)\n",
    "        detections = results[0].boxes.data.cpu().numpy()\n",
    "\n",
    "        for detection in detections:\n",
    "            x1, y1, x2, y2, conf, cls = detection\n",
    "            label = f\"{modelo.names[int(cls)]} {conf:.2f}\"\n",
    "            \n",
    "            if(op in label):\n",
    "                aux = 1\n",
    "        break\n",
    "    return aux"
   ]
  },
  {
   "cell_type": "code",
   "execution_count": 109,
   "id": "28a394d2-1550-4d13-b8f6-b007529e6d5c",
   "metadata": {},
   "outputs": [],
   "source": [
    "cap = cv2.VideoCapture(path + 'video1.mp4')"
   ]
  },
  {
   "cell_type": "code",
   "execution_count": 111,
   "id": "5f41a0cf-a27e-448c-b85a-a5235ac697e6",
   "metadata": {},
   "outputs": [
    {
     "name": "stdin",
     "output_type": "stream",
     "text": [
      "Qual a classe? car\n"
     ]
    }
   ],
   "source": [
    "op = input('Qual a classe?')"
   ]
  },
  {
   "cell_type": "code",
   "execution_count": 112,
   "id": "dfda1b00-7869-4dff-bc4d-cf75c440f52a",
   "metadata": {},
   "outputs": [],
   "source": [
    "def esta():\n",
    "    op2 = input('Qual a classe?')\n",
    "    if (verifica(op2)):\n",
    "        \n",
    "        video = input(\"Nome do video: \")\n",
    "        v = cv2.VideoCapture(path + video+ '.mp4')\n",
    "        if(v_2(v, op2) == 1):\n",
    "            print(\"Objeto está no vídeo\")     \n",
    "        else:\n",
    "            print(\"Objeto não está no vídeo\")     \n",
    "    else:\n",
    "        print(\"Classe não existe no modelo\")     "
   ]
  },
  {
   "cell_type": "code",
   "execution_count": 114,
   "id": "26be9136-3288-4db2-b518-a8458bf0ade2",
   "metadata": {},
   "outputs": [
    {
     "name": "stdin",
     "output_type": "stream",
     "text": [
      "Qual a classe? orangotango\n"
     ]
    },
    {
     "name": "stdout",
     "output_type": "stream",
     "text": [
      "Classe não existe no modelo\n"
     ]
    }
   ],
   "source": [
    "esta()"
   ]
  }
 ],
 "metadata": {
  "kernelspec": {
   "display_name": "Python 3 (ipykernel)",
   "language": "python",
   "name": "python3"
  },
  "language_info": {
   "codemirror_mode": {
    "name": "ipython",
    "version": 3
   },
   "file_extension": ".py",
   "mimetype": "text/x-python",
   "name": "python",
   "nbconvert_exporter": "python",
   "pygments_lexer": "ipython3",
   "version": "3.10.14"
  }
 },
 "nbformat": 4,
 "nbformat_minor": 5
}
