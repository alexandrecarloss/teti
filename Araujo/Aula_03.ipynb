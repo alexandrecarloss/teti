{
 "cells": [
  {
   "cell_type": "markdown",
   "id": "fde7c4ca-3278-4cbe-a598-fca97b404178",
   "metadata": {},
   "source": [
    "## Aula 03 - 11.05.2024 - Visão Computacional e Machine Learning"
   ]
  },
  {
   "cell_type": "code",
   "execution_count": 2,
   "id": "ef81feae-067e-42d2-b53c-c83078465fcc",
   "metadata": {},
   "outputs": [],
   "source": [
    "path = 'E:/visao_am/arquivos/imagens_visao_am/'"
   ]
  },
  {
   "cell_type": "code",
   "execution_count": 3,
   "id": "e28d22d9-2e84-4117-a0cb-3fc45094d072",
   "metadata": {},
   "outputs": [],
   "source": [
    "def plot_im2(im1, tit1, im2, tit2, tam):\n",
    "    figure(figsize = tam)\n",
    "    plt.subplot(1,2,1), plt.imshow(im1), plt.title(tit1)\n",
    "    plt.xticks([]), plt.yticks([])\n",
    "    plt.subplot(1,2,2), plt.imshow(im2), plt.title(tit2)\n",
    "    plt.xticks([]), plt.yticks([])\n",
    "    plt.show()\n",
    "\n",
    "def plot_im3(im1, tit1, im2, tit2, im3, tit3, tam):\n",
    "    figure(figsize = tam)\n",
    "    plt.subplot(1,3,1), plt.imshow(im1, cmap = \"gray\"), plt.title(tit1)\n",
    "    plt.xticks([]), plt.yticks([])\n",
    "    plt.subplot(1,3,2), plt.imshow(im2, cmap = \"gray\"), plt.title(tit2)\n",
    "    plt.xticks([]), plt.yticks([])\n",
    "    plt.subplot(1,3,3), plt.imshow(im3, cmap = \"gray\"), plt.title(tit3)\n",
    "    plt.xticks([]), plt.yticks([])\n",
    "    plt.show()\n",
    "\n",
    "def plot_im3_(im1, tit1, im2, tit2, im3, tit3, tam):\n",
    "    figure(figsize = tam)\n",
    "    plt.subplot(1,3,1), plt.imshow(im1), plt.title(tit1)\n",
    "    plt.xticks([]), plt.yticks([])\n",
    "    plt.subplot(1,3,2), plt.imshow(im2), plt.title(tit2)\n",
    "    plt.xticks([]), plt.yticks([])\n",
    "    plt.subplot(1,3,3), plt.imshow(im3), plt.title(tit3)\n",
    "    plt.xticks([]), plt.yticks([])\n",
    "    plt.show()\n",
    "\n",
    "def plot_im4(im1, tit1, im2, tit2, im3, tit3, im4, tit4, tam, cmp = True):\n",
    "    plt.figure(figsize=tam)\n",
    "    plt.subplot(2, 2, 1), plt.imshow(im1), plt.title(tit1)\n",
    "    plt.xticks([]), plt.yticks([])\n",
    "\n",
    "    if cmp:\n",
    "        plt.subplot(2, 2, 2), plt.imshow(im2, cmap = \"gray\"), plt.title(tit2)\n",
    "    else:\n",
    "        plt.subplot(2, 2, 2), plt.imshow(im2), plt.title(tit2)\n",
    "    plt.xticks([]), plt.yticks([])\n",
    "    \n",
    "    if cmp:\n",
    "        plt.subplot(2, 2, 3), plt.imshow(im3, cmap = \"gray\"), plt.title(tit3)\n",
    "    else:\n",
    "        plt.subplot(2, 2, 3), plt.imshow(im3), plt.title(tit3)\n",
    "    plt.xticks([]), plt.yticks([])\n",
    "    \n",
    "    if cmp:\n",
    "        plt.subplot(2, 2, 4), plt.imshow(im4, cmap = \"gray\"), plt.title(tit4)\n",
    "    else:\n",
    "        plt.subplot(2, 2, 4), plt.imshow(im4), plt.title(tit4)\n",
    "    plt.xticks([]), plt.yticks([])\n",
    "    plt.tight_layout()\n",
    "    plt.show()\n",
    "    "
   ]
  },
  {
   "cell_type": "code",
   "execution_count": 4,
   "id": "618bb0c5-2c77-4574-9eb4-8d435081a15f",
   "metadata": {},
   "outputs": [],
   "source": [
    "from PIL import Image, ImageOps\n",
    "import matplotlib.pyplot as plt\n",
    "from pylab import *\n",
    "import cv2\n",
    "import matplotlib.pyplot as plt\n",
    "from matplotlib.pyplot import figure"
   ]
  },
  {
   "cell_type": "code",
   "execution_count": 5,
   "id": "3ae117c2-ae19-4d33-a1ff-ed986940d434",
   "metadata": {},
   "outputs": [],
   "source": [
    "im_1 = cv2.imread(path + \"tucano3.png\")"
   ]
  },
  {
   "cell_type": "code",
   "execution_count": 6,
   "id": "dbd60d9e-0bcf-4c13-b9e7-dda806397e94",
   "metadata": {},
   "outputs": [
    {
     "ename": "TypeError",
     "evalue": "Image data of dtype object cannot be converted to float",
     "output_type": "error",
     "traceback": [
      "\u001b[1;31m---------------------------------------------------------------------------\u001b[0m",
      "\u001b[1;31mTypeError\u001b[0m                                 Traceback (most recent call last)",
      "Cell \u001b[1;32mIn[6], line 1\u001b[0m\n\u001b[1;32m----> 1\u001b[0m \u001b[43mplt\u001b[49m\u001b[38;5;241;43m.\u001b[39;49m\u001b[43mimshow\u001b[49m\u001b[43m(\u001b[49m\u001b[43mim_1\u001b[49m\u001b[43m)\u001b[49m\n",
      "File \u001b[1;32m~\\anaconda3\\envs\\visao_am\\lib\\site-packages\\matplotlib\\pyplot.py:3358\u001b[0m, in \u001b[0;36mimshow\u001b[1;34m(X, cmap, norm, aspect, interpolation, alpha, vmin, vmax, origin, extent, interpolation_stage, filternorm, filterrad, resample, url, data, **kwargs)\u001b[0m\n\u001b[0;32m   3337\u001b[0m \u001b[38;5;129m@_copy_docstring_and_deprecators\u001b[39m(Axes\u001b[38;5;241m.\u001b[39mimshow)\n\u001b[0;32m   3338\u001b[0m \u001b[38;5;28;01mdef\u001b[39;00m \u001b[38;5;21mimshow\u001b[39m(\n\u001b[0;32m   3339\u001b[0m     X: ArrayLike \u001b[38;5;241m|\u001b[39m PIL\u001b[38;5;241m.\u001b[39mImage\u001b[38;5;241m.\u001b[39mImage,\n\u001b[1;32m   (...)\u001b[0m\n\u001b[0;32m   3356\u001b[0m     \u001b[38;5;241m*\u001b[39m\u001b[38;5;241m*\u001b[39mkwargs,\n\u001b[0;32m   3357\u001b[0m ) \u001b[38;5;241m-\u001b[39m\u001b[38;5;241m>\u001b[39m AxesImage:\n\u001b[1;32m-> 3358\u001b[0m     __ret \u001b[38;5;241m=\u001b[39m gca()\u001b[38;5;241m.\u001b[39mimshow(\n\u001b[0;32m   3359\u001b[0m         X,\n\u001b[0;32m   3360\u001b[0m         cmap\u001b[38;5;241m=\u001b[39mcmap,\n\u001b[0;32m   3361\u001b[0m         norm\u001b[38;5;241m=\u001b[39mnorm,\n\u001b[0;32m   3362\u001b[0m         aspect\u001b[38;5;241m=\u001b[39maspect,\n\u001b[0;32m   3363\u001b[0m         interpolation\u001b[38;5;241m=\u001b[39minterpolation,\n\u001b[0;32m   3364\u001b[0m         alpha\u001b[38;5;241m=\u001b[39malpha,\n\u001b[0;32m   3365\u001b[0m         vmin\u001b[38;5;241m=\u001b[39mvmin,\n\u001b[0;32m   3366\u001b[0m         vmax\u001b[38;5;241m=\u001b[39mvmax,\n\u001b[0;32m   3367\u001b[0m         origin\u001b[38;5;241m=\u001b[39morigin,\n\u001b[0;32m   3368\u001b[0m         extent\u001b[38;5;241m=\u001b[39mextent,\n\u001b[0;32m   3369\u001b[0m         interpolation_stage\u001b[38;5;241m=\u001b[39minterpolation_stage,\n\u001b[0;32m   3370\u001b[0m         filternorm\u001b[38;5;241m=\u001b[39mfilternorm,\n\u001b[0;32m   3371\u001b[0m         filterrad\u001b[38;5;241m=\u001b[39mfilterrad,\n\u001b[0;32m   3372\u001b[0m         resample\u001b[38;5;241m=\u001b[39mresample,\n\u001b[0;32m   3373\u001b[0m         url\u001b[38;5;241m=\u001b[39murl,\n\u001b[0;32m   3374\u001b[0m         \u001b[38;5;241m*\u001b[39m\u001b[38;5;241m*\u001b[39m({\u001b[38;5;124m\"\u001b[39m\u001b[38;5;124mdata\u001b[39m\u001b[38;5;124m\"\u001b[39m: data} \u001b[38;5;28;01mif\u001b[39;00m data \u001b[38;5;129;01mis\u001b[39;00m \u001b[38;5;129;01mnot\u001b[39;00m \u001b[38;5;28;01mNone\u001b[39;00m \u001b[38;5;28;01melse\u001b[39;00m {}),\n\u001b[0;32m   3375\u001b[0m         \u001b[38;5;241m*\u001b[39m\u001b[38;5;241m*\u001b[39mkwargs,\n\u001b[0;32m   3376\u001b[0m     )\n\u001b[0;32m   3377\u001b[0m     sci(__ret)\n\u001b[0;32m   3378\u001b[0m     \u001b[38;5;28;01mreturn\u001b[39;00m __ret\n",
      "File \u001b[1;32m~\\anaconda3\\envs\\visao_am\\lib\\site-packages\\matplotlib\\__init__.py:1478\u001b[0m, in \u001b[0;36m_preprocess_data.<locals>.inner\u001b[1;34m(ax, data, *args, **kwargs)\u001b[0m\n\u001b[0;32m   1475\u001b[0m \u001b[38;5;129m@functools\u001b[39m\u001b[38;5;241m.\u001b[39mwraps(func)\n\u001b[0;32m   1476\u001b[0m \u001b[38;5;28;01mdef\u001b[39;00m \u001b[38;5;21minner\u001b[39m(ax, \u001b[38;5;241m*\u001b[39margs, data\u001b[38;5;241m=\u001b[39m\u001b[38;5;28;01mNone\u001b[39;00m, \u001b[38;5;241m*\u001b[39m\u001b[38;5;241m*\u001b[39mkwargs):\n\u001b[0;32m   1477\u001b[0m     \u001b[38;5;28;01mif\u001b[39;00m data \u001b[38;5;129;01mis\u001b[39;00m \u001b[38;5;28;01mNone\u001b[39;00m:\n\u001b[1;32m-> 1478\u001b[0m         \u001b[38;5;28;01mreturn\u001b[39;00m func(ax, \u001b[38;5;241m*\u001b[39m\u001b[38;5;28mmap\u001b[39m(sanitize_sequence, args), \u001b[38;5;241m*\u001b[39m\u001b[38;5;241m*\u001b[39mkwargs)\n\u001b[0;32m   1480\u001b[0m     bound \u001b[38;5;241m=\u001b[39m new_sig\u001b[38;5;241m.\u001b[39mbind(ax, \u001b[38;5;241m*\u001b[39margs, \u001b[38;5;241m*\u001b[39m\u001b[38;5;241m*\u001b[39mkwargs)\n\u001b[0;32m   1481\u001b[0m     auto_label \u001b[38;5;241m=\u001b[39m (bound\u001b[38;5;241m.\u001b[39marguments\u001b[38;5;241m.\u001b[39mget(label_namer)\n\u001b[0;32m   1482\u001b[0m                   \u001b[38;5;129;01mor\u001b[39;00m bound\u001b[38;5;241m.\u001b[39mkwargs\u001b[38;5;241m.\u001b[39mget(label_namer))\n",
      "File \u001b[1;32m~\\anaconda3\\envs\\visao_am\\lib\\site-packages\\matplotlib\\axes\\_axes.py:5759\u001b[0m, in \u001b[0;36mAxes.imshow\u001b[1;34m(self, X, cmap, norm, aspect, interpolation, alpha, vmin, vmax, origin, extent, interpolation_stage, filternorm, filterrad, resample, url, **kwargs)\u001b[0m\n\u001b[0;32m   5756\u001b[0m \u001b[38;5;28;01mif\u001b[39;00m aspect \u001b[38;5;129;01mis\u001b[39;00m \u001b[38;5;129;01mnot\u001b[39;00m \u001b[38;5;28;01mNone\u001b[39;00m:\n\u001b[0;32m   5757\u001b[0m     \u001b[38;5;28mself\u001b[39m\u001b[38;5;241m.\u001b[39mset_aspect(aspect)\n\u001b[1;32m-> 5759\u001b[0m \u001b[43mim\u001b[49m\u001b[38;5;241;43m.\u001b[39;49m\u001b[43mset_data\u001b[49m\u001b[43m(\u001b[49m\u001b[43mX\u001b[49m\u001b[43m)\u001b[49m\n\u001b[0;32m   5760\u001b[0m im\u001b[38;5;241m.\u001b[39mset_alpha(alpha)\n\u001b[0;32m   5761\u001b[0m \u001b[38;5;28;01mif\u001b[39;00m im\u001b[38;5;241m.\u001b[39mget_clip_path() \u001b[38;5;129;01mis\u001b[39;00m \u001b[38;5;28;01mNone\u001b[39;00m:\n\u001b[0;32m   5762\u001b[0m     \u001b[38;5;66;03m# image does not already have clipping set, clip to axes patch\u001b[39;00m\n",
      "File \u001b[1;32m~\\anaconda3\\envs\\visao_am\\lib\\site-packages\\matplotlib\\image.py:723\u001b[0m, in \u001b[0;36m_ImageBase.set_data\u001b[1;34m(self, A)\u001b[0m\n\u001b[0;32m    721\u001b[0m \u001b[38;5;28;01mif\u001b[39;00m \u001b[38;5;28misinstance\u001b[39m(A, PIL\u001b[38;5;241m.\u001b[39mImage\u001b[38;5;241m.\u001b[39mImage):\n\u001b[0;32m    722\u001b[0m     A \u001b[38;5;241m=\u001b[39m pil_to_array(A)  \u001b[38;5;66;03m# Needed e.g. to apply png palette.\u001b[39;00m\n\u001b[1;32m--> 723\u001b[0m \u001b[38;5;28mself\u001b[39m\u001b[38;5;241m.\u001b[39m_A \u001b[38;5;241m=\u001b[39m \u001b[38;5;28;43mself\u001b[39;49m\u001b[38;5;241;43m.\u001b[39;49m\u001b[43m_normalize_image_array\u001b[49m\u001b[43m(\u001b[49m\u001b[43mA\u001b[49m\u001b[43m)\u001b[49m\n\u001b[0;32m    724\u001b[0m \u001b[38;5;28mself\u001b[39m\u001b[38;5;241m.\u001b[39m_imcache \u001b[38;5;241m=\u001b[39m \u001b[38;5;28;01mNone\u001b[39;00m\n\u001b[0;32m    725\u001b[0m \u001b[38;5;28mself\u001b[39m\u001b[38;5;241m.\u001b[39mstale \u001b[38;5;241m=\u001b[39m \u001b[38;5;28;01mTrue\u001b[39;00m\n",
      "File \u001b[1;32m~\\anaconda3\\envs\\visao_am\\lib\\site-packages\\matplotlib\\image.py:688\u001b[0m, in \u001b[0;36m_ImageBase._normalize_image_array\u001b[1;34m(A)\u001b[0m\n\u001b[0;32m    686\u001b[0m A \u001b[38;5;241m=\u001b[39m cbook\u001b[38;5;241m.\u001b[39msafe_masked_invalid(A, copy\u001b[38;5;241m=\u001b[39m\u001b[38;5;28;01mTrue\u001b[39;00m)\n\u001b[0;32m    687\u001b[0m \u001b[38;5;28;01mif\u001b[39;00m A\u001b[38;5;241m.\u001b[39mdtype \u001b[38;5;241m!=\u001b[39m np\u001b[38;5;241m.\u001b[39muint8 \u001b[38;5;129;01mand\u001b[39;00m \u001b[38;5;129;01mnot\u001b[39;00m np\u001b[38;5;241m.\u001b[39mcan_cast(A\u001b[38;5;241m.\u001b[39mdtype, \u001b[38;5;28mfloat\u001b[39m, \u001b[38;5;124m\"\u001b[39m\u001b[38;5;124msame_kind\u001b[39m\u001b[38;5;124m\"\u001b[39m):\n\u001b[1;32m--> 688\u001b[0m     \u001b[38;5;28;01mraise\u001b[39;00m \u001b[38;5;167;01mTypeError\u001b[39;00m(\u001b[38;5;124mf\u001b[39m\u001b[38;5;124m\"\u001b[39m\u001b[38;5;124mImage data of dtype \u001b[39m\u001b[38;5;132;01m{\u001b[39;00mA\u001b[38;5;241m.\u001b[39mdtype\u001b[38;5;132;01m}\u001b[39;00m\u001b[38;5;124m cannot be \u001b[39m\u001b[38;5;124m\"\u001b[39m\n\u001b[0;32m    689\u001b[0m                     \u001b[38;5;124mf\u001b[39m\u001b[38;5;124m\"\u001b[39m\u001b[38;5;124mconverted to float\u001b[39m\u001b[38;5;124m\"\u001b[39m)\n\u001b[0;32m    690\u001b[0m \u001b[38;5;28;01mif\u001b[39;00m A\u001b[38;5;241m.\u001b[39mndim \u001b[38;5;241m==\u001b[39m \u001b[38;5;241m3\u001b[39m \u001b[38;5;129;01mand\u001b[39;00m A\u001b[38;5;241m.\u001b[39mshape[\u001b[38;5;241m-\u001b[39m\u001b[38;5;241m1\u001b[39m] \u001b[38;5;241m==\u001b[39m \u001b[38;5;241m1\u001b[39m:\n\u001b[0;32m    691\u001b[0m     A \u001b[38;5;241m=\u001b[39m A\u001b[38;5;241m.\u001b[39msqueeze(\u001b[38;5;241m-\u001b[39m\u001b[38;5;241m1\u001b[39m)  \u001b[38;5;66;03m# If just (M, N, 1), assume scalar and apply colormap.\u001b[39;00m\n",
      "\u001b[1;31mTypeError\u001b[0m: Image data of dtype object cannot be converted to float"
     ]
    },
    {
     "data": {
      "image/png": "[encoded data removed]",
      "text/plain": [
       "<Figure size 640x480 with 1 Axes>"
      ]
     },
     "metadata": {},
     "output_type": "display_data"
    }
   ],
   "source": [
    "plt.imshow(im_1)"
   ]
  },
  {
   "cell_type": "code",
   "execution_count": null,
   "id": "5c6b9566-cc61-48eb-83c7-87b48bb0e5fb",
   "metadata": {},
   "outputs": [],
   "source": [
    "im_1_c = cv2.cvtColor(im_1, cv2.COLOR_BGR2RGB)"
   ]
  },
  {
   "cell_type": "code",
   "execution_count": null,
   "id": "a6cb4287-0d2c-4800-a3cb-ba01f1ae1f15",
   "metadata": {},
   "outputs": [],
   "source": [
    "plot_im2(im_1, 'Imagem normal', im_1_c, 'Imagem Convertida', (12,10))"
   ]
  },
  {
   "cell_type": "code",
   "execution_count": null,
   "id": "a5bffec7-e011-46a7-a8e4-d973ee9b62e1",
   "metadata": {},
   "outputs": [],
   "source": [
    "im_1olho = im_1_c[210:270, 115:170]"
   ]
  },
  {
   "cell_type": "code",
   "execution_count": null,
   "id": "ec346399-c9f6-4a45-b0ac-4c9a4341df28",
   "metadata": {},
   "outputs": [],
   "source": [
    "imshow(im_1olho)"
   ]
  },
  {
   "cell_type": "code",
   "execution_count": null,
   "id": "2b81a4db-d813-41b6-88ed-04e7baceaea3",
   "metadata": {},
   "outputs": [],
   "source": [
    "im_1_c_b, im_1_c_g, im_1_c_r = cv2.split(im_1_c)"
   ]
  },
  {
   "cell_type": "code",
   "execution_count": null,
   "id": "0b420e98-cd2b-4847-9b05-b2e1d86bb4f2",
   "metadata": {},
   "outputs": [],
   "source": [
    "plot_im3(im_1_c_b, 'B', im_1_c_g, 'G', im_1_c_r, 'R', (12,15))"
   ]
  },
  {
   "cell_type": "code",
   "execution_count": null,
   "id": "8a296cb6-1e0f-4a1b-bc55-74e6a0604b15",
   "metadata": {},
   "outputs": [],
   "source": [
    "plot_im4(im_1_c, 'Imagem original', im_1_c_b, 'B', im_1_c_g, 'G', im_1_c_r, 'R', (10,12))"
   ]
  },
  {
   "cell_type": "code",
   "execution_count": null,
   "id": "42678ea6-c08f-460d-aeb8-8744ae06ba7f",
   "metadata": {},
   "outputs": [],
   "source": [
    "im_1_c_r = im_1_c_r + 50\n",
    "im_1_c_g = im_1_c_g + 100"
   ]
  },
  {
   "cell_type": "code",
   "execution_count": null,
   "id": "7e2bc171-d192-4f9d-bc70-84ece9307e4e",
   "metadata": {},
   "outputs": [],
   "source": [
    "plot_im4(im_1_c, 'Imagem original', im_1_c_b, 'B', im_1_c_g, 'G', im_1_c_r, 'R', (10,12))"
   ]
  },
  {
   "cell_type": "code",
   "execution_count": null,
   "id": "041abc7d-1239-4d40-8b85-b9b35bfdb727",
   "metadata": {},
   "outputs": [],
   "source": [
    "im_2 = cv2.imread(path + \"fusca_placa.jpg\")\n",
    "im_3 = cv2.imread(path + \"familia_semluz.tif\")"
   ]
  },
  {
   "cell_type": "code",
   "execution_count": null,
   "id": "c2abc1a9-3a03-4984-9366-59cb513e375b",
   "metadata": {},
   "outputs": [],
   "source": [
    "imshow(im_2)"
   ]
  },
  {
   "cell_type": "code",
   "execution_count": null,
   "id": "e767790f-0e5a-4cdc-828b-baba22fd6d4b",
   "metadata": {},
   "outputs": [],
   "source": [
    "im_p = Image.fromarray(np.uint8(im_2))\n",
    "im_p = ImageOps.equalize(im_p)"
   ]
  },
  {
   "cell_type": "code",
   "execution_count": null,
   "id": "50aa8987-6d31-4ae1-9bb6-618ae66d7084",
   "metadata": {},
   "outputs": [],
   "source": [
    "imshow(im_p)"
   ]
  },
  {
   "cell_type": "code",
   "execution_count": null,
   "id": "1431843c-b82f-42a2-b74a-978b735ff507",
   "metadata": {},
   "outputs": [],
   "source": [
    "imshow(im_3)"
   ]
  },
  {
   "cell_type": "code",
   "execution_count": null,
   "id": "bf8d920c-cd7a-4006-9242-64963d5c9ab4",
   "metadata": {},
   "outputs": [],
   "source": [
    "im_p2 = Image.fromarray(np.uint8(im_3))\n",
    "im_p2 = ImageOps.equalize(im_p2)"
   ]
  },
  {
   "cell_type": "code",
   "execution_count": null,
   "id": "b3c9fb1e-f246-42c8-87ec-27b791ecb521",
   "metadata": {},
   "outputs": [],
   "source": [
    "imshow(im_p2)"
   ]
  },
  {
   "cell_type": "code",
   "execution_count": null,
   "id": "a7509d4d-67fc-4bb5-b290-e1dc43382992",
   "metadata": {},
   "outputs": [],
   "source": [
    "im_3.shape"
   ]
  },
  {
   "cell_type": "code",
   "execution_count": null,
   "id": "ebcb041f-72aa-460e-9b5d-ef56b85ec4ef",
   "metadata": {},
   "outputs": [],
   "source": [
    "im_fusca2 = im_2 + 255"
   ]
  },
  {
   "cell_type": "code",
   "execution_count": null,
   "id": "7aaf5972-d955-4a42-8115-faaccbfb1414",
   "metadata": {},
   "outputs": [],
   "source": [
    "imshow(im_fusca2)"
   ]
  },
  {
   "cell_type": "code",
   "execution_count": null,
   "id": "1af5b995-04fc-4ea4-8a03-e5e7bc602144",
   "metadata": {},
   "outputs": [],
   "source": [
    "im_1_hsv = cv2.cvtColor(im_1_c, cv2.COLOR_BGR2HSV)"
   ]
  },
  {
   "cell_type": "code",
   "execution_count": null,
   "id": "68cadb0b-19c8-4160-b42f-c53206e9a1cd",
   "metadata": {},
   "outputs": [],
   "source": [
    "im1_hsv_h, im2_hsv_s, im3_hsv_v = cv2.split(im_1_hsv)"
   ]
  },
  {
   "cell_type": "code",
   "execution_count": null,
   "id": "d408c1ea-0129-4f5a-96d3-597136067358",
   "metadata": {},
   "outputs": [],
   "source": [
    "plot_im4(im_1_c, 'Imagem original', im1_hsv_h, 'H', im2_hsv_s, 'S', im3_hsv_v, 'V', (10,12), False)"
   ]
  },
  {
   "cell_type": "code",
   "execution_count": null,
   "id": "ea2dd791-247d-4210-a1b4-dd501137510d",
   "metadata": {},
   "outputs": [],
   "source": [
    "import numpy as np"
   ]
  },
  {
   "cell_type": "code",
   "execution_count": null,
   "id": "0df5a1f3-42fd-4e45-9765-635b49ce4a96",
   "metadata": {},
   "outputs": [],
   "source": [
    "im_praia = cv2.imread(path +'paisagem_africa_do_sul.jpg')"
   ]
  },
  {
   "cell_type": "code",
   "execution_count": null,
   "id": "7ab0bd62-ed72-4dc6-a03c-4af203679ff7",
   "metadata": {},
   "outputs": [],
   "source": [
    "escala = 0.3"
   ]
  },
  {
   "cell_type": "code",
   "execution_count": null,
   "id": "ca38d952-2838-4b7d-ab90-f832123b02db",
   "metadata": {},
   "outputs": [],
   "source": [
    "nova_resol = (int(im_praia.shape[1]*escala), int(im_praia.shape[0]*escala))"
   ]
  },
  {
   "cell_type": "code",
   "execution_count": null,
   "id": "4821490a-8836-47e0-aeb2-860eb27991e3",
   "metadata": {},
   "outputs": [],
   "source": [
    "im_praia_redim = cv2.resize(im_praia, nova_resol, interpolation = cv2.INTER_AREA)"
   ]
  },
  {
   "cell_type": "code",
   "execution_count": null,
   "id": "593e20f1-bf7b-4eaa-ab79-8690d5995d3d",
   "metadata": {},
   "outputs": [],
   "source": [
    "im_praiahsv = cv2.cvtColor(im_praia_redim, cv2.COLOR_BGR2HSV)"
   ]
  },
  {
   "cell_type": "code",
   "execution_count": null,
   "id": "cb3ffb97-578d-4c79-a31d-7ae848f203fa",
   "metadata": {},
   "outputs": [],
   "source": [
    "im_praiaC = cv2.cvtColor(im_praia_redim, cv2.COLOR_BGR2RGB)"
   ]
  },
  {
   "cell_type": "code",
   "execution_count": null,
   "id": "d8d81105-aad9-42de-a7cb-bd3060241e0d",
   "metadata": {},
   "outputs": [],
   "source": [
    "im_praiahsv_h, im_praiahsv_s, im_praiahsv_v = cv2.split(im_praiahsv)"
   ]
  },
  {
   "cell_type": "code",
   "execution_count": null,
   "id": "b59cfcb3-4ffe-4b92-9372-952800133068",
   "metadata": {},
   "outputs": [],
   "source": [
    "plot_im4(im_praiaC, 'Imagem original', im_praiahsv_h, 'H', im_praiahsv_s, 'S', im_praiahsv_v, 'V', (10,12))"
   ]
  },
  {
   "cell_type": "code",
   "execution_count": null,
   "id": "bcea7472-c64e-4b8d-b600-416f1e8b8adf",
   "metadata": {},
   "outputs": [],
   "source": [
    "def retorna_faixa_cores(cor):\n",
    "    faixas_hsv = {\n",
    "        \"green\": ((36, 50, 50), (85, 255, 255)),\n",
    "        \"blue\": ((90, 50, 50), (128, 255, 255))\n",
    "    }\n",
    "    return faixas_hsv.get(cor.lower(), \"Cor inválida\")"
   ]
  },
  {
   "cell_type": "code",
   "execution_count": null,
   "id": "476c9471-db99-412c-8934-73c8804fc66c",
   "metadata": {},
   "outputs": [],
   "source": [
    "cor_escolha = input(\"Escolha a cor(green ou blue):\")\n",
    "faixas_cor = retorna_faixa_cores(cor_escolha)\n",
    "print(f\"Utilize a faixa (hsv): {faixas_cor}\")"
   ]
  },
  {
   "cell_type": "code",
   "execution_count": null,
   "id": "781b5f24-286c-4d48-aa32-c69d2b11134c",
   "metadata": {},
   "outputs": [],
   "source": [
    "limiar_claro = np.array([36, 50, 50])\n",
    "limiar_escuro = np.array([85, 255, 255])"
   ]
  },
  {
   "cell_type": "code",
   "execution_count": null,
   "id": "250e1b60-b6cf-478b-a84a-3751f6122d7f",
   "metadata": {},
   "outputs": [],
   "source": [
    "mask = cv2.inRange(im_praiahsv, limiar_claro, limiar_escuro)"
   ]
  },
  {
   "cell_type": "code",
   "execution_count": null,
   "id": "62620982-4586-4ac8-9df2-ba2f2ac7adf3",
   "metadata": {},
   "outputs": [],
   "source": [
    "saida = cv2.bitwise_and(im_praiahsv, im_praiahsv, mask = mask)"
   ]
  },
  {
   "cell_type": "code",
   "execution_count": null,
   "id": "ced7788f-9196-4929-abbc-900052fa13d5",
   "metadata": {},
   "outputs": [],
   "source": [
    "cv2.imshow('Cor detectada', np.hstack((im_praia_redim, saida)))\n",
    "cv2.waitKey(0)\n",
    "cv2.destroyAllWindows()"
   ]
  },
  {
   "cell_type": "code",
   "execution_count": null,
   "id": "b7824b21-48a1-40a6-8460-93e902281f51",
   "metadata": {},
   "outputs": [],
   "source": [
    "imesa_1 = cv2.imread(path + \"mesa_1.jpg\")\n",
    "imesa_2 = cv2.imread(path + \"mesa_2.jpg\")"
   ]
  },
  {
   "cell_type": "code",
   "execution_count": null,
   "id": "ac05d503-e019-4fc9-8851-7c5013be5d1c",
   "metadata": {},
   "outputs": [],
   "source": [
    "im_mesa1c = cv2.cvtColor(imesa_1, cv2.COLOR_BGR2RGB)\n",
    "im_mesa2c = cv2.cvtColor(imesa_2, cv2.COLOR_BGR2RGB)"
   ]
  },
  {
   "cell_type": "code",
   "execution_count": null,
   "id": "4677cb4e-888c-4067-84c3-2b0644d05f16",
   "metadata": {},
   "outputs": [],
   "source": [
    "plot_im3_(im_mesa1c, 'Imagem 1',im_mesa2c, 'Imagem 2', im_mesa1c - im_mesa2c, 'Diferença', (12,15))"
   ]
  },
  {
   "cell_type": "code",
   "execution_count": null,
   "id": "50d0eb0a-e113-497a-bf6c-ae4215f1e25f",
   "metadata": {},
   "outputs": [],
   "source": [
    "im_duas = cv2.imread(path + \"duasHoras.jpeg\")\n",
    "im_cinco = cv2.imread(path + \"cincoHoras.jpeg\")\n",
    "im_natural = cv2.imread(path + \"luzNatural.jpeg\")\n",
    "im_artificial = cv2.imread(path + \"luzArtificial.jpeg\")"
   ]
  },
  {
   "cell_type": "code",
   "execution_count": null,
   "id": "e9d0d494-308b-426d-8f5f-08a589fd3c4e",
   "metadata": {},
   "outputs": [],
   "source": [
    "im_duasC = cv2.cvtColor(im_duas, cv2.COLOR_BGR2RGB)\n",
    "im_cincoC = cv2.cvtColor(im_cinco, cv2.COLOR_BGR2RGB)\n",
    "im_naturalC = cv2.cvtColor(im_natural, cv2.COLOR_BGR2RGB)\n",
    "im_artificialC = cv2.cvtColor(im_artificial, cv2.COLOR_BGR2RGB)"
   ]
  },
  {
   "cell_type": "code",
   "execution_count": null,
   "id": "1e16df9a-e86c-425f-8470-82741212f235",
   "metadata": {},
   "outputs": [],
   "source": [
    "plot_im3_(im_duasC, 'Imagem 1',im_cincoC, 'Imagem 2', im_duasC - im_cincoC, 'Diferença', (12,15))"
   ]
  },
  {
   "cell_type": "code",
   "execution_count": null,
   "id": "1832b178-6ab4-4c81-83cc-a80e6ac72da9",
   "metadata": {},
   "outputs": [],
   "source": [
    "im_ = cv2.imread(path + \"duasHoras.jpeg\")\n",
    "im_cinco = cv2.imread(path + \"cincoHoras.jpeg\")\n",
    "im_natural = cv2.imread(path + \"luzNatural.jpeg\")\n",
    "im_artificial = cv2.imread(path + \"luzArtificial.jpeg\")"
   ]
  }
 ],
 "metadata": {
  "kernelspec": {
   "display_name": "Python 3 (ipykernel)",
   "language": "python",
   "name": "python3"
  },
  "language_info": {
   "codemirror_mode": {
    "name": "ipython",
    "version": 3
   },
   "file_extension": ".py",
   "mimetype": "text/x-python",
   "name": "python",
   "nbconvert_exporter": "python",
   "pygments_lexer": "ipython3",
   "version": "3.10.14"
  }
 },
 "nbformat": 4,
 "nbformat_minor": 5
}
