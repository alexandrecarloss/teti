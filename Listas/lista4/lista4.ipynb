{
 "cells": [
  {
   "cell_type": "markdown",
   "id": "dfe88f0b-7e7d-4bd7-9ed2-2e9029bcf0bb",
   "metadata": {},
   "source": [
    "## lista 4"
   ]
  },
  {
   "cell_type": "markdown",
   "id": "00c41353-06df-4c79-9959-d47b45fb6041",
   "metadata": {},
   "source": [
    "## Bibliotecas"
   ]
  },
  {
   "cell_type": "code",
   "execution_count": 19,
   "id": "599a5f47-7b97-4d75-961e-6effacbb1737",
   "metadata": {},
   "outputs": [],
   "source": [
    "import numpy as np\n",
    "import keras.datasets as ds\n",
    "import tensorflow.keras as tk\n",
    "from keras import layers\n",
    "import keras.datasets\n",
    "from datetime import datetime\n",
    "from PIL import Image\n",
    "import numpy as np\n",
    "from sklearn.preprocessing import StandardScaler"
   ]
  },
  {
   "cell_type": "markdown",
   "id": "cc481cce-58f1-425c-9d65-2963ba3e3324",
   "metadata": {},
   "source": [
    "## onde serão salvos os logs e os nomes"
   ]
  },
  {
   "cell_type": "code",
   "execution_count": 20,
   "id": "8a8071dd-c7ad-4919-b832-6ac5df12b4e5",
   "metadata": {},
   "outputs": [
    {
     "name": "stdout",
     "output_type": "stream",
     "text": [
      "The tensorboard extension is already loaded. To reload it, use:\n",
      "  %reload_ext tensorboard\n"
     ]
    }
   ],
   "source": [
    "%load_ext tensorboard\n",
    "logdir = \"logs/scalars/\" + datetime.now().strftime(\"%Y%m%d-%H%M%S\")\n",
    "tensorboard_callback = keras.callbacks.TensorBoard(log_dir=logdir)"
   ]
  },
  {
   "cell_type": "markdown",
   "id": "d0e7c0e4-4ef7-460d-945a-6f1d42051c1f",
   "metadata": {},
   "source": [
    "## fashionMnist"
   ]
  },
  {
   "cell_type": "code",
   "execution_count": 21,
   "id": "76e154d6-694c-4a35-95a6-24618e496ad1",
   "metadata": {},
   "outputs": [],
   "source": [
    "mnistFahion = keras.datasets.fashion_mnist"
   ]
  },
  {
   "cell_type": "markdown",
   "id": "ffe12607-2b3c-45ce-8c67-e24436745818",
   "metadata": {},
   "source": [
    "## variavéis para treino"
   ]
  },
  {
   "cell_type": "code",
   "execution_count": 22,
   "id": "aeb668a5-4751-41fa-88d2-9ac4ff58441c",
   "metadata": {},
   "outputs": [],
   "source": [
    "num_classes = 10\n",
    "input_shape = (28,28,1)\n",
    "batch_size = 64 \n",
    "batch_size2 = 32 \n",
    "epochs = 30\n",
    "epochs2 = 50\n",
    "validation_split = 0.1\n",
    "validation_split2 = 0.05"
   ]
  },
  {
   "cell_type": "markdown",
   "id": "8cd4f427-7370-4c67-8688-cefd2f457813",
   "metadata": {},
   "source": [
    "## colunas treino e alvo"
   ]
  },
  {
   "cell_type": "code",
   "execution_count": 23,
   "id": "262bb336-e465-4b7f-8af1-677e16221b23",
   "metadata": {},
   "outputs": [
    {
     "data": {
      "text/plain": [
       "((60000, 28, 28), (10000, 28, 28))"
      ]
     },
     "execution_count": 23,
     "metadata": {},
     "output_type": "execute_result"
    }
   ],
   "source": [
    "(x_train, y_train), (x_teste, y_teste) = mnistFahion.load_data()\n",
    "x_train.shape, x_teste.shape"
   ]
  },
  {
   "cell_type": "code",
   "execution_count": 24,
   "id": "76bba4c5-76c2-4f88-af3b-d4b0deabdd6a",
   "metadata": {},
   "outputs": [
    {
     "data": {
      "text/plain": [
       "((60000, 28, 28, 1), (10000, 28, 28, 1))"
      ]
     },
     "execution_count": 24,
     "metadata": {},
     "output_type": "execute_result"
    }
   ],
   "source": [
    "x_train = x_train.astype('float32')/255\n",
    "x_teste = x_teste.astype('float32')/255\n",
    "x_train = np.expand_dims(x_train, -1)\n",
    "x_teste = np.expand_dims(x_teste, -1)\n",
    "x_train.shape, x_teste.shape"
   ]
  },
  {
   "cell_type": "code",
   "execution_count": 25,
   "id": "f85f03f3-b3ed-4112-8327-c9eb82490231",
   "metadata": {},
   "outputs": [],
   "source": [
    "y_train = keras.utils.to_categorical(y_train, num_classes)\n",
    "y_teste = keras.utils.to_categorical(y_teste, num_classes)"
   ]
  },
  {
   "cell_type": "markdown",
   "id": "1f74a1f1-5385-4392-9c16-9079d5319e24",
   "metadata": {},
   "source": [
    "## preparação de modelos"
   ]
  },
  {
   "cell_type": "code",
   "execution_count": 26,
   "id": "cd91cba9-3f3b-47cb-a44b-efe685da3035",
   "metadata": {},
   "outputs": [
    {
     "name": "stdout",
     "output_type": "stream",
     "text": [
      "Model: \"sequential_1\"\n",
      "_________________________________________________________________\n",
      " Layer (type)                Output Shape              Param #   \n",
      "=================================================================\n",
      " conv2d_2 (Conv2D)           (None, 26, 26, 32)        320       \n",
      "                                                                 \n",
      " max_pooling2d_2 (MaxPoolin  (None, 13, 13, 32)        0         \n",
      " g2D)                                                            \n",
      "                                                                 \n",
      " conv2d_3 (Conv2D)           (None, 11, 11, 64)        18496     \n",
      "                                                                 \n",
      " max_pooling2d_3 (MaxPoolin  (None, 5, 5, 64)          0         \n",
      " g2D)                                                            \n",
      "                                                                 \n",
      " flatten_1 (Flatten)         (None, 1600)              0         \n",
      "                                                                 \n",
      " dense_1 (Dense)             (None, 10)                16010     \n",
      "                                                                 \n",
      "=================================================================\n",
      "Total params: 34826 (136.04 KB)\n",
      "Trainable params: 34826 (136.04 KB)\n",
      "Non-trainable params: 0 (0.00 Byte)\n",
      "_________________________________________________________________\n",
      "None\n"
     ]
    }
   ],
   "source": [
    "modelo = keras.Sequential(\n",
    "    [\n",
    "        keras.Input(shape = input_shape),\n",
    "        layers.Conv2D(32, kernel_size=(3,3), activation = \"relu\"),\n",
    "        layers.MaxPooling2D(pool_size=(2,2)),\n",
    "        layers.Conv2D(64, kernel_size=(3,3), activation = \"relu\"),\n",
    "        layers.MaxPooling2D(pool_size=(2,2)),\n",
    "        layers.Flatten(),\n",
    "        layers.Dense(num_classes, activation=\"softmax\")\n",
    "    ]\n",
    ")\n",
    "print(modelo.summary())"
   ]
  },
  {
   "cell_type": "code",
   "execution_count": 27,
   "id": "9fbe18e2-ea4d-44db-a7e7-1ced735f1037",
   "metadata": {},
   "outputs": [
    {
     "name": "stdout",
     "output_type": "stream",
     "text": [
      "Model: \"sequential_1\"\n",
      "_________________________________________________________________\n",
      " Layer (type)                Output Shape              Param #   \n",
      "=================================================================\n",
      " conv2d_2 (Conv2D)           (None, 26, 26, 32)        320       \n",
      "                                                                 \n",
      " max_pooling2d_2 (MaxPoolin  (None, 13, 13, 32)        0         \n",
      " g2D)                                                            \n",
      "                                                                 \n",
      " conv2d_3 (Conv2D)           (None, 11, 11, 64)        18496     \n",
      "                                                                 \n",
      " max_pooling2d_3 (MaxPoolin  (None, 5, 5, 64)          0         \n",
      " g2D)                                                            \n",
      "                                                                 \n",
      " flatten_1 (Flatten)         (None, 1600)              0         \n",
      "                                                                 \n",
      " dense_1 (Dense)             (None, 10)                16010     \n",
      "                                                                 \n",
      "=================================================================\n",
      "Total params: 34826 (136.04 KB)\n",
      "Trainable params: 34826 (136.04 KB)\n",
      "Non-trainable params: 0 (0.00 Byte)\n",
      "_________________________________________________________________\n",
      "None\n"
     ]
    }
   ],
   "source": [
    "modelo2 = keras.Sequential(\n",
    "    [\n",
    "        keras.Input(shape = input_shape),\n",
    "        layers.Conv2D(32, kernel_size=(3,3), activation = \"relu\"),\n",
    "        layers.MaxPooling2D(pool_size=(2,2)),\n",
    "        layers.Conv2D(64, kernel_size=(3,3), activation = \"relu\"),\n",
    "        layers.MaxPooling2D(pool_size=(2,2)),\n",
    "        layers.Flatten(),\n",
    "        layers.Dense(num_classes, activation=\"softmax\")\n",
    "    ]\n",
    ")\n",
    "print(modelo.summary())"
   ]
  },
  {
   "cell_type": "code",
   "execution_count": 28,
   "id": "9bde3cbc-a35d-4190-8757-334a8856564c",
   "metadata": {},
   "outputs": [
    {
     "name": "stdout",
     "output_type": "stream",
     "text": [
      "Model: \"sequential_1\"\n",
      "_________________________________________________________________\n",
      " Layer (type)                Output Shape              Param #   \n",
      "=================================================================\n",
      " conv2d_2 (Conv2D)           (None, 26, 26, 32)        320       \n",
      "                                                                 \n",
      " max_pooling2d_2 (MaxPoolin  (None, 13, 13, 32)        0         \n",
      " g2D)                                                            \n",
      "                                                                 \n",
      " conv2d_3 (Conv2D)           (None, 11, 11, 64)        18496     \n",
      "                                                                 \n",
      " max_pooling2d_3 (MaxPoolin  (None, 5, 5, 64)          0         \n",
      " g2D)                                                            \n",
      "                                                                 \n",
      " flatten_1 (Flatten)         (None, 1600)              0         \n",
      "                                                                 \n",
      " dense_1 (Dense)             (None, 10)                16010     \n",
      "                                                                 \n",
      "=================================================================\n",
      "Total params: 34826 (136.04 KB)\n",
      "Trainable params: 34826 (136.04 KB)\n",
      "Non-trainable params: 0 (0.00 Byte)\n",
      "_________________________________________________________________\n",
      "None\n"
     ]
    }
   ],
   "source": [
    "modelo3 = keras.Sequential(\n",
    "    [\n",
    "        keras.Input(shape = input_shape),\n",
    "        layers.Conv2D(32, kernel_size=(3,3), activation = \"relu\"),\n",
    "        layers.MaxPooling2D(pool_size=(2,2)),\n",
    "        layers.Conv2D(64, kernel_size=(3,3), activation = \"relu\"),\n",
    "        layers.MaxPooling2D(pool_size=(2,2)),\n",
    "        layers.Flatten(),\n",
    "        layers.Dense(num_classes, activation=\"softmax\")\n",
    "    ]\n",
    ")\n",
    "print(modelo.summary())"
   ]
  },
  {
   "cell_type": "code",
   "execution_count": 29,
   "id": "f78730fa-010d-47fe-bffe-dc6167e78bee",
   "metadata": {},
   "outputs": [
    {
     "name": "stdout",
     "output_type": "stream",
     "text": [
      "Model: \"sequential_1\"\n",
      "_________________________________________________________________\n",
      " Layer (type)                Output Shape              Param #   \n",
      "=================================================================\n",
      " conv2d_2 (Conv2D)           (None, 26, 26, 32)        320       \n",
      "                                                                 \n",
      " max_pooling2d_2 (MaxPoolin  (None, 13, 13, 32)        0         \n",
      " g2D)                                                            \n",
      "                                                                 \n",
      " conv2d_3 (Conv2D)           (None, 11, 11, 64)        18496     \n",
      "                                                                 \n",
      " max_pooling2d_3 (MaxPoolin  (None, 5, 5, 64)          0         \n",
      " g2D)                                                            \n",
      "                                                                 \n",
      " flatten_1 (Flatten)         (None, 1600)              0         \n",
      "                                                                 \n",
      " dense_1 (Dense)             (None, 10)                16010     \n",
      "                                                                 \n",
      "=================================================================\n",
      "Total params: 34826 (136.04 KB)\n",
      "Trainable params: 34826 (136.04 KB)\n",
      "Non-trainable params: 0 (0.00 Byte)\n",
      "_________________________________________________________________\n",
      "None\n"
     ]
    }
   ],
   "source": [
    "modelo4 = keras.Sequential(\n",
    "    [\n",
    "        keras.Input(shape = input_shape),\n",
    "        layers.Conv2D(32, kernel_size=(3,3), activation = \"relu\"),\n",
    "        layers.MaxPooling2D(pool_size=(2,2)),\n",
    "        layers.Conv2D(64, kernel_size=(3,3), activation = \"relu\"),\n",
    "        layers.MaxPooling2D(pool_size=(2,2)),\n",
    "        layers.Flatten(),\n",
    "        layers.Dense(num_classes, activation=\"softmax\")\n",
    "    ]\n",
    ")\n",
    "print(modelo.summary())"
   ]
  },
  {
   "cell_type": "markdown",
   "id": "96da421d-941f-48f7-a4de-8994ec24e9a8",
   "metadata": {},
   "source": [
    "## Treinos"
   ]
  },
  {
   "cell_type": "code",
   "execution_count": 30,
   "id": "1a724cc6-b12a-46d4-a06b-7ac3399e23c1",
   "metadata": {},
   "outputs": [
    {
     "name": "stdout",
     "output_type": "stream",
     "text": [
      "Epoch 1/30\n",
      "844/844 [==============================] - 18s 20ms/step - loss: 0.5313 - accuracy: 0.8108 - val_loss: 0.3755 - val_accuracy: 0.8635\n",
      "Epoch 2/30\n",
      "844/844 [==============================] - 16s 19ms/step - loss: 0.3543 - accuracy: 0.8731 - val_loss: 0.3231 - val_accuracy: 0.8822\n",
      "Epoch 3/30\n",
      "844/844 [==============================] - 17s 20ms/step - loss: 0.3118 - accuracy: 0.8875 - val_loss: 0.3271 - val_accuracy: 0.8827\n",
      "Epoch 4/30\n",
      "844/844 [==============================] - 15s 17ms/step - loss: 0.2859 - accuracy: 0.8971 - val_loss: 0.3157 - val_accuracy: 0.8878\n",
      "Epoch 5/30\n",
      "844/844 [==============================] - 15s 18ms/step - loss: 0.2674 - accuracy: 0.9033 - val_loss: 0.3069 - val_accuracy: 0.8867\n",
      "Epoch 6/30\n",
      "844/844 [==============================] - 15s 18ms/step - loss: 0.2501 - accuracy: 0.9096 - val_loss: 0.2675 - val_accuracy: 0.9040\n",
      "Epoch 7/30\n",
      "844/844 [==============================] - 15s 18ms/step - loss: 0.2367 - accuracy: 0.9144 - val_loss: 0.2815 - val_accuracy: 0.8998\n",
      "Epoch 8/30\n",
      "844/844 [==============================] - 15s 18ms/step - loss: 0.2233 - accuracy: 0.9186 - val_loss: 0.2587 - val_accuracy: 0.9085\n",
      "Epoch 9/30\n",
      "844/844 [==============================] - 15s 18ms/step - loss: 0.2130 - accuracy: 0.9229 - val_loss: 0.2611 - val_accuracy: 0.9050\n",
      "Epoch 10/30\n",
      "844/844 [==============================] - 15s 17ms/step - loss: 0.2003 - accuracy: 0.9276 - val_loss: 0.2843 - val_accuracy: 0.9003\n",
      "Epoch 11/30\n",
      "844/844 [==============================] - 15s 18ms/step - loss: 0.1921 - accuracy: 0.9291 - val_loss: 0.2510 - val_accuracy: 0.9097\n",
      "Epoch 12/30\n",
      "844/844 [==============================] - 15s 17ms/step - loss: 0.1815 - accuracy: 0.9341 - val_loss: 0.2612 - val_accuracy: 0.9088\n",
      "Epoch 13/30\n",
      "844/844 [==============================] - 15s 17ms/step - loss: 0.1725 - accuracy: 0.9367 - val_loss: 0.2578 - val_accuracy: 0.9083\n",
      "Epoch 14/30\n",
      "844/844 [==============================] - 15s 17ms/step - loss: 0.1656 - accuracy: 0.9396 - val_loss: 0.2561 - val_accuracy: 0.9102\n",
      "Epoch 15/30\n",
      "844/844 [==============================] - 15s 17ms/step - loss: 0.1565 - accuracy: 0.9431 - val_loss: 0.2637 - val_accuracy: 0.9045\n",
      "Epoch 16/30\n",
      "844/844 [==============================] - 15s 17ms/step - loss: 0.1512 - accuracy: 0.9439 - val_loss: 0.2855 - val_accuracy: 0.9017\n",
      "Epoch 17/30\n",
      "844/844 [==============================] - 15s 17ms/step - loss: 0.1465 - accuracy: 0.9454 - val_loss: 0.2604 - val_accuracy: 0.9130\n",
      "Epoch 18/30\n",
      "844/844 [==============================] - 15s 18ms/step - loss: 0.1397 - accuracy: 0.9494 - val_loss: 0.2732 - val_accuracy: 0.9095\n",
      "Epoch 19/30\n",
      "844/844 [==============================] - 15s 17ms/step - loss: 0.1359 - accuracy: 0.9505 - val_loss: 0.2695 - val_accuracy: 0.9127\n",
      "Epoch 20/30\n",
      "844/844 [==============================] - 15s 17ms/step - loss: 0.1292 - accuracy: 0.9531 - val_loss: 0.2857 - val_accuracy: 0.9062\n",
      "Epoch 21/30\n",
      "844/844 [==============================] - 16s 19ms/step - loss: 0.1253 - accuracy: 0.9551 - val_loss: 0.2953 - val_accuracy: 0.9058\n",
      "Epoch 22/30\n",
      "844/844 [==============================] - 16s 19ms/step - loss: 0.1195 - accuracy: 0.9561 - val_loss: 0.2868 - val_accuracy: 0.9097\n",
      "Epoch 23/30\n",
      "844/844 [==============================] - 18s 21ms/step - loss: 0.1136 - accuracy: 0.9588 - val_loss: 0.2970 - val_accuracy: 0.9098\n",
      "Epoch 24/30\n",
      "844/844 [==============================] - 15s 18ms/step - loss: 0.1118 - accuracy: 0.9595 - val_loss: 0.3117 - val_accuracy: 0.9088\n",
      "Epoch 25/30\n",
      "844/844 [==============================] - 15s 18ms/step - loss: 0.1043 - accuracy: 0.9635 - val_loss: 0.3079 - val_accuracy: 0.9063\n",
      "Epoch 26/30\n",
      "844/844 [==============================] - 16s 19ms/step - loss: 0.1008 - accuracy: 0.9632 - val_loss: 0.3239 - val_accuracy: 0.9053\n",
      "Epoch 27/30\n",
      "844/844 [==============================] - 15s 18ms/step - loss: 0.0999 - accuracy: 0.9640 - val_loss: 0.3334 - val_accuracy: 0.9050\n",
      "Epoch 28/30\n",
      "844/844 [==============================] - 16s 18ms/step - loss: 0.0948 - accuracy: 0.9660 - val_loss: 0.3125 - val_accuracy: 0.9092\n",
      "Epoch 29/30\n",
      "844/844 [==============================] - 16s 19ms/step - loss: 0.0907 - accuracy: 0.9678 - val_loss: 0.3358 - val_accuracy: 0.9027\n",
      "Epoch 30/30\n",
      "844/844 [==============================] - 16s 19ms/step - loss: 0.0879 - accuracy: 0.9680 - val_loss: 0.3341 - val_accuracy: 0.9043\n"
     ]
    }
   ],
   "source": [
    "modelo.compile(loss=\"categorical_crossentropy\", optimizer=\"adam\",metrics=[\"accuracy\"])\n",
    "training_history = modelo.fit(x_train, y_train, batch_size = batch_size,\n",
    "                             epochs = epochs, validation_split = 0.1,\n",
    "                             callbacks = [tensorboard_callback])"
   ]
  },
  {
   "cell_type": "code",
   "execution_count": 31,
   "id": "ce8cb227-dc8a-4937-b84a-b929130e2d71",
   "metadata": {},
   "outputs": [
    {
     "name": "stdout",
     "output_type": "stream",
     "text": [
      "Epoch 1/50\n",
      "1782/1782 [==============================] - 15s 9ms/step - loss: 0.1321 - accuracy: 0.9527 - val_loss: 0.3211 - val_accuracy: 0.9003\n",
      "Epoch 2/50\n",
      "1782/1782 [==============================] - 16s 9ms/step - loss: 0.1134 - accuracy: 0.9600 - val_loss: 0.3598 - val_accuracy: 0.8990\n",
      "Epoch 3/50\n",
      "1782/1782 [==============================] - 16s 9ms/step - loss: 0.1082 - accuracy: 0.9609 - val_loss: 0.3315 - val_accuracy: 0.9070\n",
      "Epoch 4/50\n",
      "1782/1782 [==============================] - 17s 9ms/step - loss: 0.1028 - accuracy: 0.9628 - val_loss: 0.3493 - val_accuracy: 0.9103\n",
      "Epoch 5/50\n",
      "1782/1782 [==============================] - 17s 10ms/step - loss: 0.0993 - accuracy: 0.9643 - val_loss: 0.3439 - val_accuracy: 0.9030\n",
      "Epoch 6/50\n",
      "1782/1782 [==============================] - 17s 9ms/step - loss: 0.0965 - accuracy: 0.9643 - val_loss: 0.3367 - val_accuracy: 0.9047\n",
      "Epoch 7/50\n",
      "1782/1782 [==============================] - 17s 9ms/step - loss: 0.0938 - accuracy: 0.9657 - val_loss: 0.3468 - val_accuracy: 0.9110\n",
      "Epoch 8/50\n",
      "1782/1782 [==============================] - 18s 10ms/step - loss: 0.0889 - accuracy: 0.9670 - val_loss: 0.4081 - val_accuracy: 0.8967\n",
      "Epoch 9/50\n",
      "1782/1782 [==============================] - 17s 10ms/step - loss: 0.0845 - accuracy: 0.9688 - val_loss: 0.3623 - val_accuracy: 0.9067\n",
      "Epoch 10/50\n",
      "1782/1782 [==============================] - 17s 10ms/step - loss: 0.0855 - accuracy: 0.9686 - val_loss: 0.3644 - val_accuracy: 0.9033\n",
      "Epoch 11/50\n",
      "1782/1782 [==============================] - 17s 10ms/step - loss: 0.0819 - accuracy: 0.9693 - val_loss: 0.3650 - val_accuracy: 0.9077\n",
      "Epoch 12/50\n",
      "1782/1782 [==============================] - 18s 10ms/step - loss: 0.0780 - accuracy: 0.9711 - val_loss: 0.3895 - val_accuracy: 0.9087\n",
      "Epoch 13/50\n",
      "1782/1782 [==============================] - 17s 10ms/step - loss: 0.0743 - accuracy: 0.9726 - val_loss: 0.4020 - val_accuracy: 0.9033\n",
      "Epoch 14/50\n",
      "1782/1782 [==============================] - 17s 10ms/step - loss: 0.0759 - accuracy: 0.9726 - val_loss: 0.4122 - val_accuracy: 0.9010\n",
      "Epoch 15/50\n",
      "1782/1782 [==============================] - 17s 10ms/step - loss: 0.0721 - accuracy: 0.9727 - val_loss: 0.4313 - val_accuracy: 0.8950\n",
      "Epoch 16/50\n",
      "1782/1782 [==============================] - 18s 10ms/step - loss: 0.0678 - accuracy: 0.9749 - val_loss: 0.4062 - val_accuracy: 0.9067\n",
      "Epoch 17/50\n",
      "1782/1782 [==============================] - 18s 10ms/step - loss: 0.0679 - accuracy: 0.9756 - val_loss: 0.4217 - val_accuracy: 0.9057\n",
      "Epoch 18/50\n",
      "1782/1782 [==============================] - 17s 10ms/step - loss: 0.0647 - accuracy: 0.9761 - val_loss: 0.4626 - val_accuracy: 0.8997\n",
      "Epoch 19/50\n",
      "1782/1782 [==============================] - 18s 10ms/step - loss: 0.0666 - accuracy: 0.9754 - val_loss: 0.4189 - val_accuracy: 0.9030\n",
      "Epoch 20/50\n",
      "1782/1782 [==============================] - 18s 10ms/step - loss: 0.0603 - accuracy: 0.9772 - val_loss: 0.4386 - val_accuracy: 0.9040\n",
      "Epoch 21/50\n",
      "1782/1782 [==============================] - 17s 10ms/step - loss: 0.0596 - accuracy: 0.9775 - val_loss: 0.4820 - val_accuracy: 0.9073\n",
      "Epoch 22/50\n",
      "1782/1782 [==============================] - 18s 10ms/step - loss: 0.0610 - accuracy: 0.9770 - val_loss: 0.4683 - val_accuracy: 0.9010\n",
      "Epoch 23/50\n",
      "1782/1782 [==============================] - 18s 10ms/step - loss: 0.0547 - accuracy: 0.9801 - val_loss: 0.4715 - val_accuracy: 0.9020\n",
      "Epoch 24/50\n",
      "1782/1782 [==============================] - 18s 10ms/step - loss: 0.0564 - accuracy: 0.9789 - val_loss: 0.4673 - val_accuracy: 0.9003\n",
      "Epoch 25/50\n",
      "1782/1782 [==============================] - 17s 10ms/step - loss: 0.0543 - accuracy: 0.9800 - val_loss: 0.4492 - val_accuracy: 0.9073\n",
      "Epoch 26/50\n",
      "1782/1782 [==============================] - 19s 10ms/step - loss: 0.0548 - accuracy: 0.9806 - val_loss: 0.5096 - val_accuracy: 0.9023\n",
      "Epoch 27/50\n",
      "1782/1782 [==============================] - 18s 10ms/step - loss: 0.0506 - accuracy: 0.9816 - val_loss: 0.4834 - val_accuracy: 0.9003\n",
      "Epoch 28/50\n",
      "1782/1782 [==============================] - 18s 10ms/step - loss: 0.0508 - accuracy: 0.9806 - val_loss: 0.5432 - val_accuracy: 0.8990\n",
      "Epoch 29/50\n",
      "1782/1782 [==============================] - 18s 10ms/step - loss: 0.0501 - accuracy: 0.9818 - val_loss: 0.5004 - val_accuracy: 0.8973\n",
      "Epoch 30/50\n",
      "1782/1782 [==============================] - 19s 11ms/step - loss: 0.0482 - accuracy: 0.9815 - val_loss: 0.5230 - val_accuracy: 0.8990\n",
      "Epoch 31/50\n",
      "1782/1782 [==============================] - 19s 11ms/step - loss: 0.0456 - accuracy: 0.9831 - val_loss: 0.5341 - val_accuracy: 0.9043\n",
      "Epoch 32/50\n",
      "1782/1782 [==============================] - 18s 10ms/step - loss: 0.0468 - accuracy: 0.9826 - val_loss: 0.5637 - val_accuracy: 0.9057\n",
      "Epoch 33/50\n",
      "1782/1782 [==============================] - 18s 10ms/step - loss: 0.0457 - accuracy: 0.9831 - val_loss: 0.5654 - val_accuracy: 0.9017\n",
      "Epoch 34/50\n",
      "1782/1782 [==============================] - 18s 10ms/step - loss: 0.0424 - accuracy: 0.9841 - val_loss: 0.6058 - val_accuracy: 0.9017\n",
      "Epoch 35/50\n",
      "1782/1782 [==============================] - 18s 10ms/step - loss: 0.0435 - accuracy: 0.9840 - val_loss: 0.5984 - val_accuracy: 0.8983\n",
      "Epoch 36/50\n",
      "1782/1782 [==============================] - 18s 10ms/step - loss: 0.0430 - accuracy: 0.9842 - val_loss: 0.6280 - val_accuracy: 0.8993\n",
      "Epoch 37/50\n",
      "1782/1782 [==============================] - 18s 10ms/step - loss: 0.0419 - accuracy: 0.9845 - val_loss: 0.6070 - val_accuracy: 0.9017\n",
      "Epoch 38/50\n",
      "1782/1782 [==============================] - 18s 10ms/step - loss: 0.0396 - accuracy: 0.9853 - val_loss: 0.5780 - val_accuracy: 0.9033\n",
      "Epoch 39/50\n",
      "1782/1782 [==============================] - 19s 11ms/step - loss: 0.0424 - accuracy: 0.9839 - val_loss: 0.6049 - val_accuracy: 0.9013\n",
      "Epoch 40/50\n",
      "1782/1782 [==============================] - 18s 10ms/step - loss: 0.0392 - accuracy: 0.9859 - val_loss: 0.6125 - val_accuracy: 0.9003\n",
      "Epoch 41/50\n",
      "1782/1782 [==============================] - 18s 10ms/step - loss: 0.0361 - accuracy: 0.9863 - val_loss: 0.6466 - val_accuracy: 0.8963\n",
      "Epoch 42/50\n",
      "1782/1782 [==============================] - 18s 10ms/step - loss: 0.0381 - accuracy: 0.9856 - val_loss: 0.6331 - val_accuracy: 0.9063\n",
      "Epoch 43/50\n",
      "1782/1782 [==============================] - 19s 11ms/step - loss: 0.0410 - accuracy: 0.9848 - val_loss: 0.6435 - val_accuracy: 0.9043\n",
      "Epoch 44/50\n",
      "1782/1782 [==============================] - 19s 11ms/step - loss: 0.0340 - accuracy: 0.9872 - val_loss: 0.6554 - val_accuracy: 0.9033\n",
      "Epoch 45/50\n",
      "1782/1782 [==============================] - 19s 10ms/step - loss: 0.0370 - accuracy: 0.9866 - val_loss: 0.7126 - val_accuracy: 0.8957\n",
      "Epoch 46/50\n",
      "1782/1782 [==============================] - 18s 10ms/step - loss: 0.0374 - accuracy: 0.9860 - val_loss: 0.7253 - val_accuracy: 0.8957\n",
      "Epoch 47/50\n",
      "1782/1782 [==============================] - 19s 11ms/step - loss: 0.0356 - accuracy: 0.9868 - val_loss: 0.6712 - val_accuracy: 0.9027\n",
      "Epoch 48/50\n",
      "1782/1782 [==============================] - 19s 11ms/step - loss: 0.0348 - accuracy: 0.9872 - val_loss: 0.7515 - val_accuracy: 0.8940\n",
      "Epoch 49/50\n",
      "1782/1782 [==============================] - 18s 10ms/step - loss: 0.0340 - accuracy: 0.9881 - val_loss: 0.7201 - val_accuracy: 0.9003\n",
      "Epoch 50/50\n",
      "1782/1782 [==============================] - 18s 10ms/step - loss: 0.0340 - accuracy: 0.9878 - val_loss: 0.7263 - val_accuracy: 0.8943\n"
     ]
    }
   ],
   "source": [
    "modelo2.compile(loss=\"categorical_crossentropy\", optimizer=\"adam\",metrics=[\"accuracy\"])\n",
    "training_history = modelo.fit(x_train, y_train, batch_size = batch_size2,\n",
    "                             epochs = epochs2, validation_split = 0.05,\n",
    "                             callbacks = [tensorboard_callback])"
   ]
  },
  {
   "cell_type": "code",
   "execution_count": 33,
   "id": "3380783b-3d27-4b06-9a8e-a8ea495a3000",
   "metadata": {},
   "outputs": [
    {
     "name": "stdout",
     "output_type": "stream",
     "text": [
      "Epoch 1/30\n",
      "1688/1688 [==============================] - 17s 10ms/step - loss: 0.0364 - accuracy: 0.9869 - val_loss: 0.3709 - val_accuracy: 0.9397\n",
      "Epoch 2/30\n",
      "1688/1688 [==============================] - 19s 11ms/step - loss: 0.0301 - accuracy: 0.9893 - val_loss: 0.3837 - val_accuracy: 0.9415\n",
      "Epoch 3/30\n",
      "1688/1688 [==============================] - 18s 10ms/step - loss: 0.0356 - accuracy: 0.9867 - val_loss: 0.3617 - val_accuracy: 0.9448\n",
      "Epoch 4/30\n",
      "1688/1688 [==============================] - 18s 10ms/step - loss: 0.0317 - accuracy: 0.9883 - val_loss: 0.3784 - val_accuracy: 0.9417\n",
      "Epoch 5/30\n",
      "1688/1688 [==============================] - 18s 11ms/step - loss: 0.0297 - accuracy: 0.9889 - val_loss: 0.4152 - val_accuracy: 0.9345\n",
      "Epoch 6/30\n",
      "1688/1688 [==============================] - 17s 10ms/step - loss: 0.0324 - accuracy: 0.9889 - val_loss: 0.3907 - val_accuracy: 0.9378\n",
      "Epoch 7/30\n",
      "1688/1688 [==============================] - 17s 10ms/step - loss: 0.0303 - accuracy: 0.9891 - val_loss: 0.4350 - val_accuracy: 0.9308\n",
      "Epoch 8/30\n",
      "1688/1688 [==============================] - 17s 10ms/step - loss: 0.0290 - accuracy: 0.9891 - val_loss: 0.4278 - val_accuracy: 0.9375\n",
      "Epoch 9/30\n",
      "1688/1688 [==============================] - 17s 10ms/step - loss: 0.0323 - accuracy: 0.9883 - val_loss: 0.4376 - val_accuracy: 0.9342\n",
      "Epoch 10/30\n",
      "1688/1688 [==============================] - 17s 10ms/step - loss: 0.0277 - accuracy: 0.9899 - val_loss: 0.4571 - val_accuracy: 0.9345\n",
      "Epoch 11/30\n",
      "1688/1688 [==============================] - 17s 10ms/step - loss: 0.0328 - accuracy: 0.9884 - val_loss: 0.4195 - val_accuracy: 0.9365\n",
      "Epoch 12/30\n",
      "1688/1688 [==============================] - 17s 10ms/step - loss: 0.0279 - accuracy: 0.9892 - val_loss: 0.4399 - val_accuracy: 0.9340\n",
      "Epoch 13/30\n",
      "1688/1688 [==============================] - 17s 10ms/step - loss: 0.0303 - accuracy: 0.9891 - val_loss: 0.4979 - val_accuracy: 0.9290\n",
      "Epoch 14/30\n",
      "1688/1688 [==============================] - 18s 10ms/step - loss: 0.0271 - accuracy: 0.9902 - val_loss: 0.4771 - val_accuracy: 0.9333\n",
      "Epoch 15/30\n",
      "1688/1688 [==============================] - 17s 10ms/step - loss: 0.0278 - accuracy: 0.9901 - val_loss: 0.4557 - val_accuracy: 0.9330\n",
      "Epoch 16/30\n",
      "1688/1688 [==============================] - 17s 10ms/step - loss: 0.0284 - accuracy: 0.9898 - val_loss: 0.4640 - val_accuracy: 0.9303\n",
      "Epoch 17/30\n",
      "1688/1688 [==============================] - 18s 11ms/step - loss: 0.0246 - accuracy: 0.9912 - val_loss: 0.4603 - val_accuracy: 0.9328\n",
      "Epoch 18/30\n",
      "1688/1688 [==============================] - 18s 11ms/step - loss: 0.0275 - accuracy: 0.9899 - val_loss: 0.4900 - val_accuracy: 0.9318\n",
      "Epoch 19/30\n",
      "1688/1688 [==============================] - 18s 11ms/step - loss: 0.0278 - accuracy: 0.9901 - val_loss: 0.5214 - val_accuracy: 0.9243\n",
      "Epoch 20/30\n",
      "1688/1688 [==============================] - 19s 11ms/step - loss: 0.0263 - accuracy: 0.9909 - val_loss: 0.5098 - val_accuracy: 0.9265\n",
      "Epoch 21/30\n",
      "1688/1688 [==============================] - 18s 11ms/step - loss: 0.0257 - accuracy: 0.9907 - val_loss: 0.5009 - val_accuracy: 0.9313\n",
      "Epoch 22/30\n",
      "1688/1688 [==============================] - 19s 11ms/step - loss: 0.0268 - accuracy: 0.9905 - val_loss: 0.4757 - val_accuracy: 0.9327\n",
      "Epoch 23/30\n",
      "1688/1688 [==============================] - 19s 11ms/step - loss: 0.0286 - accuracy: 0.9896 - val_loss: 0.5036 - val_accuracy: 0.9297\n",
      "Epoch 24/30\n",
      "1688/1688 [==============================] - 18s 10ms/step - loss: 0.0292 - accuracy: 0.9902 - val_loss: 0.5278 - val_accuracy: 0.9247\n",
      "Epoch 25/30\n",
      "1688/1688 [==============================] - 17s 10ms/step - loss: 0.0253 - accuracy: 0.9911 - val_loss: 0.5523 - val_accuracy: 0.9265\n",
      "Epoch 26/30\n",
      "1688/1688 [==============================] - 17s 10ms/step - loss: 0.0244 - accuracy: 0.9913 - val_loss: 0.5227 - val_accuracy: 0.9265\n",
      "Epoch 27/30\n",
      "1688/1688 [==============================] - 18s 10ms/step - loss: 0.0273 - accuracy: 0.9901 - val_loss: 0.5323 - val_accuracy: 0.9270\n",
      "Epoch 28/30\n",
      "1688/1688 [==============================] - 18s 11ms/step - loss: 0.0226 - accuracy: 0.9918 - val_loss: 0.5964 - val_accuracy: 0.9218\n",
      "Epoch 29/30\n",
      "1688/1688 [==============================] - 18s 10ms/step - loss: 0.0320 - accuracy: 0.9895 - val_loss: 0.5722 - val_accuracy: 0.9237\n",
      "Epoch 30/30\n",
      "1688/1688 [==============================] - 18s 11ms/step - loss: 0.0249 - accuracy: 0.9917 - val_loss: 0.5900 - val_accuracy: 0.9227\n"
     ]
    }
   ],
   "source": [
    "modelo3.compile(loss=\"categorical_crossentropy\", optimizer=\"adam\",metrics=[\"accuracy\"])\n",
    "training_history = modelo.fit(x_train, y_train, batch_size = batch_size2,\n",
    "                             epochs = epochs, validation_split = 0.1,\n",
    "                             callbacks = [tensorboard_callback])"
   ]
  },
  {
   "cell_type": "code",
   "execution_count": 37,
   "id": "acb84a0c-f54e-4ffd-90dd-cea31e3d9081",
   "metadata": {},
   "outputs": [
    {
     "name": "stdout",
     "output_type": "stream",
     "text": [
      "Epoch 1/50\n",
      "891/891 [==============================] - 14s 15ms/step - loss: 0.0200 - accuracy: 0.9941 - val_loss: 0.8860 - val_accuracy: 0.9033\n",
      "Epoch 2/50\n",
      "891/891 [==============================] - 14s 16ms/step - loss: 0.0105 - accuracy: 0.9966 - val_loss: 0.9002 - val_accuracy: 0.9043\n",
      "Epoch 3/50\n",
      "891/891 [==============================] - 14s 16ms/step - loss: 0.0160 - accuracy: 0.9944 - val_loss: 0.8736 - val_accuracy: 0.9050\n",
      "Epoch 4/50\n",
      "891/891 [==============================] - 15s 16ms/step - loss: 0.0131 - accuracy: 0.9954 - val_loss: 0.9593 - val_accuracy: 0.9027\n",
      "Epoch 5/50\n",
      "891/891 [==============================] - 15s 17ms/step - loss: 0.0138 - accuracy: 0.9954 - val_loss: 0.9242 - val_accuracy: 0.9010\n",
      "Epoch 6/50\n",
      "891/891 [==============================] - 15s 17ms/step - loss: 0.0157 - accuracy: 0.9944 - val_loss: 0.9579 - val_accuracy: 0.9027\n",
      "Epoch 7/50\n",
      "891/891 [==============================] - 15s 17ms/step - loss: 0.0126 - accuracy: 0.9954 - val_loss: 0.9646 - val_accuracy: 0.9003\n",
      "Epoch 8/50\n",
      "891/891 [==============================] - 15s 17ms/step - loss: 0.0127 - accuracy: 0.9953 - val_loss: 0.9462 - val_accuracy: 0.9047\n",
      "Epoch 9/50\n",
      "891/891 [==============================] - 15s 17ms/step - loss: 0.0141 - accuracy: 0.9951 - val_loss: 0.9939 - val_accuracy: 0.9010\n",
      "Epoch 10/50\n",
      "891/891 [==============================] - 15s 17ms/step - loss: 0.0131 - accuracy: 0.9953 - val_loss: 0.9942 - val_accuracy: 0.9010\n",
      "Epoch 11/50\n",
      "891/891 [==============================] - 15s 17ms/step - loss: 0.0097 - accuracy: 0.9967 - val_loss: 0.9521 - val_accuracy: 0.9080\n",
      "Epoch 12/50\n",
      "891/891 [==============================] - 15s 17ms/step - loss: 0.0115 - accuracy: 0.9958 - val_loss: 0.9791 - val_accuracy: 0.9037\n",
      "Epoch 13/50\n",
      "891/891 [==============================] - 15s 17ms/step - loss: 0.0137 - accuracy: 0.9953 - val_loss: 0.9864 - val_accuracy: 0.9037\n",
      "Epoch 14/50\n",
      "891/891 [==============================] - 16s 18ms/step - loss: 0.0130 - accuracy: 0.9955 - val_loss: 1.0308 - val_accuracy: 0.8967\n",
      "Epoch 15/50\n",
      "891/891 [==============================] - 16s 17ms/step - loss: 0.0108 - accuracy: 0.9965 - val_loss: 1.0483 - val_accuracy: 0.8933\n",
      "Epoch 16/50\n",
      "891/891 [==============================] - 15s 17ms/step - loss: 0.0142 - accuracy: 0.9948 - val_loss: 1.0192 - val_accuracy: 0.8990\n",
      "Epoch 17/50\n",
      "891/891 [==============================] - 16s 18ms/step - loss: 0.0091 - accuracy: 0.9968 - val_loss: 1.0112 - val_accuracy: 0.9047\n",
      "Epoch 18/50\n",
      "891/891 [==============================] - 16s 18ms/step - loss: 0.0131 - accuracy: 0.9953 - val_loss: 1.0090 - val_accuracy: 0.9017\n",
      "Epoch 19/50\n",
      "891/891 [==============================] - 16s 18ms/step - loss: 0.0089 - accuracy: 0.9969 - val_loss: 1.0364 - val_accuracy: 0.9003\n",
      "Epoch 20/50\n",
      "891/891 [==============================] - 16s 17ms/step - loss: 0.0138 - accuracy: 0.9949 - val_loss: 1.0361 - val_accuracy: 0.8973\n",
      "Epoch 21/50\n",
      "891/891 [==============================] - 16s 17ms/step - loss: 0.0091 - accuracy: 0.9970 - val_loss: 1.0048 - val_accuracy: 0.9037\n",
      "Epoch 22/50\n",
      "891/891 [==============================] - 16s 18ms/step - loss: 0.0112 - accuracy: 0.9960 - val_loss: 1.0513 - val_accuracy: 0.9027\n",
      "Epoch 23/50\n",
      "891/891 [==============================] - 16s 18ms/step - loss: 0.0091 - accuracy: 0.9967 - val_loss: 0.9926 - val_accuracy: 0.8997\n",
      "Epoch 24/50\n",
      "891/891 [==============================] - 16s 18ms/step - loss: 0.0140 - accuracy: 0.9952 - val_loss: 1.0671 - val_accuracy: 0.9033\n",
      "Epoch 25/50\n",
      "891/891 [==============================] - 17s 19ms/step - loss: 0.0144 - accuracy: 0.9951 - val_loss: 1.0014 - val_accuracy: 0.9080\n",
      "Epoch 26/50\n",
      "891/891 [==============================] - 16s 18ms/step - loss: 0.0066 - accuracy: 0.9977 - val_loss: 1.0286 - val_accuracy: 0.9043\n",
      "Epoch 27/50\n",
      "891/891 [==============================] - 16s 18ms/step - loss: 0.0151 - accuracy: 0.9947 - val_loss: 1.0393 - val_accuracy: 0.9017\n",
      "Epoch 28/50\n",
      "891/891 [==============================] - 16s 18ms/step - loss: 0.0097 - accuracy: 0.9966 - val_loss: 1.0582 - val_accuracy: 0.9013\n",
      "Epoch 29/50\n",
      "891/891 [==============================] - 16s 18ms/step - loss: 0.0106 - accuracy: 0.9966 - val_loss: 1.0599 - val_accuracy: 0.9010\n",
      "Epoch 30/50\n",
      "891/891 [==============================] - 16s 18ms/step - loss: 0.0121 - accuracy: 0.9958 - val_loss: 1.0716 - val_accuracy: 0.9000\n",
      "Epoch 31/50\n",
      "891/891 [==============================] - 16s 18ms/step - loss: 0.0114 - accuracy: 0.9958 - val_loss: 1.0935 - val_accuracy: 0.9027\n",
      "Epoch 32/50\n",
      "891/891 [==============================] - 16s 18ms/step - loss: 0.0101 - accuracy: 0.9967 - val_loss: 1.0840 - val_accuracy: 0.8997\n",
      "Epoch 33/50\n",
      "891/891 [==============================] - 16s 18ms/step - loss: 0.0127 - accuracy: 0.9953 - val_loss: 1.0399 - val_accuracy: 0.9060\n",
      "Epoch 34/50\n",
      "891/891 [==============================] - 17s 19ms/step - loss: 0.0087 - accuracy: 0.9973 - val_loss: 1.0767 - val_accuracy: 0.9030\n",
      "Epoch 35/50\n",
      "891/891 [==============================] - 16s 18ms/step - loss: 0.0107 - accuracy: 0.9963 - val_loss: 1.0674 - val_accuracy: 0.9037\n",
      "Epoch 36/50\n",
      "891/891 [==============================] - 16s 18ms/step - loss: 0.0130 - accuracy: 0.9955 - val_loss: 1.0655 - val_accuracy: 0.9093\n",
      "Epoch 37/50\n",
      "891/891 [==============================] - 19s 22ms/step - loss: 0.0093 - accuracy: 0.9966 - val_loss: 1.0652 - val_accuracy: 0.9073\n",
      "Epoch 38/50\n",
      "891/891 [==============================] - 17s 19ms/step - loss: 0.0118 - accuracy: 0.9965 - val_loss: 1.0779 - val_accuracy: 0.9040\n",
      "Epoch 39/50\n",
      "891/891 [==============================] - 16s 18ms/step - loss: 0.0127 - accuracy: 0.9957 - val_loss: 1.1470 - val_accuracy: 0.9057\n",
      "Epoch 40/50\n",
      "891/891 [==============================] - 16s 18ms/step - loss: 0.0121 - accuracy: 0.9960 - val_loss: 1.1560 - val_accuracy: 0.8997\n",
      "Epoch 41/50\n",
      "891/891 [==============================] - 16s 18ms/step - loss: 0.0097 - accuracy: 0.9966 - val_loss: 1.1194 - val_accuracy: 0.8980\n",
      "Epoch 42/50\n",
      "891/891 [==============================] - 16s 18ms/step - loss: 0.0121 - accuracy: 0.9958 - val_loss: 1.0841 - val_accuracy: 0.9040\n",
      "Epoch 43/50\n",
      "891/891 [==============================] - 17s 19ms/step - loss: 0.0100 - accuracy: 0.9964 - val_loss: 1.2034 - val_accuracy: 0.8953\n",
      "Epoch 44/50\n",
      "891/891 [==============================] - 17s 19ms/step - loss: 0.0132 - accuracy: 0.9956 - val_loss: 1.0825 - val_accuracy: 0.9037\n",
      "Epoch 45/50\n",
      "891/891 [==============================] - 18s 20ms/step - loss: 0.0060 - accuracy: 0.9979 - val_loss: 1.1300 - val_accuracy: 0.9043\n",
      "Epoch 46/50\n",
      "891/891 [==============================] - 17s 20ms/step - loss: 0.0147 - accuracy: 0.9948 - val_loss: 1.1098 - val_accuracy: 0.9020\n",
      "Epoch 47/50\n",
      "891/891 [==============================] - 19s 21ms/step - loss: 0.0104 - accuracy: 0.9962 - val_loss: 1.1063 - val_accuracy: 0.9110\n",
      "Epoch 48/50\n",
      "891/891 [==============================] - 17s 19ms/step - loss: 0.0066 - accuracy: 0.9977 - val_loss: 1.1082 - val_accuracy: 0.9037\n",
      "Epoch 49/50\n",
      "891/891 [==============================] - 19s 21ms/step - loss: 0.0151 - accuracy: 0.9948 - val_loss: 1.0896 - val_accuracy: 0.9030\n",
      "Epoch 50/50\n",
      "891/891 [==============================] - 19s 21ms/step - loss: 0.0113 - accuracy: 0.9959 - val_loss: 1.1231 - val_accuracy: 0.9033\n"
     ]
    }
   ],
   "source": [
    "modelo4.compile(loss=\"categorical_crossentropy\", optimizer=\"adam\",metrics=[\"accuracy\"])\n",
    "training_history = modelo.fit(x_train, y_train, batch_size = batch_size,\n",
    "                             epochs = epochs2, validation_split = 0.05,\n",
    "                             callbacks = [tensorboard_callback])"
   ]
  },
  {
   "cell_type": "markdown",
   "id": "074b1173-29f8-4306-b6e3-4eec16b20b1e",
   "metadata": {},
   "source": [
    "## logs"
   ]
  },
  {
   "cell_type": "code",
   "execution_count": 13,
   "id": "c3be2aa0-85e6-413d-b6fb-4c34d2243d6c",
   "metadata": {},
   "outputs": [
    {
     "data": {
      "text/html": [
       "\n",
       "      <iframe id=\"tensorboard-frame-1e312d4c63b5c120\" width=\"100%\" height=\"800\" frameborder=\"0\">\n",
       "      </iframe>\n",
       "      <script>\n",
       "        (function() {\n",
       "          const frame = document.getElementById(\"tensorboard-frame-1e312d4c63b5c120\");\n",
       "          const url = new URL(\"/\", window.location);\n",
       "          const port = 6608;\n",
       "          if (port) {\n",
       "            url.port = port;\n",
       "          }\n",
       "          frame.src = url;\n",
       "        })();\n",
       "      </script>\n",
       "    "
      ],
      "text/plain": [
       "<IPython.core.display.HTML object>"
      ]
     },
     "metadata": {},
     "output_type": "display_data"
    }
   ],
   "source": [
    "%tensorboard --logdir logs/scalars --port 6608"
   ]
  },
  {
   "cell_type": "code",
   "execution_count": 42,
   "id": "75eab1f1-723e-4537-b46f-e866e93e0e6a",
   "metadata": {},
   "outputs": [
    {
     "data": {
      "text/html": [
       "\n",
       "      <iframe id=\"tensorboard-frame-e13fb0619528cea4\" width=\"100%\" height=\"800\" frameborder=\"0\">\n",
       "      </iframe>\n",
       "      <script>\n",
       "        (function() {\n",
       "          const frame = document.getElementById(\"tensorboard-frame-e13fb0619528cea4\");\n",
       "          const url = new URL(\"/\", window.location);\n",
       "          const port = 6609;\n",
       "          if (port) {\n",
       "            url.port = port;\n",
       "          }\n",
       "          frame.src = url;\n",
       "        })();\n",
       "      </script>\n",
       "    "
      ],
      "text/plain": [
       "<IPython.core.display.HTML object>"
      ]
     },
     "metadata": {},
     "output_type": "display_data"
    }
   ],
   "source": [
    "%tensorboard --logdir logs/scalars --port 6609"
   ]
  },
  {
   "cell_type": "code",
   "execution_count": 43,
   "id": "689ee59b-4289-40e8-afc2-3ace4732cce8",
   "metadata": {},
   "outputs": [
    {
     "data": {
      "text/html": [
       "\n",
       "      <iframe id=\"tensorboard-frame-587914eaafb605c2\" width=\"100%\" height=\"800\" frameborder=\"0\">\n",
       "      </iframe>\n",
       "      <script>\n",
       "        (function() {\n",
       "          const frame = document.getElementById(\"tensorboard-frame-587914eaafb605c2\");\n",
       "          const url = new URL(\"/\", window.location);\n",
       "          const port = 6610;\n",
       "          if (port) {\n",
       "            url.port = port;\n",
       "          }\n",
       "          frame.src = url;\n",
       "        })();\n",
       "      </script>\n",
       "    "
      ],
      "text/plain": [
       "<IPython.core.display.HTML object>"
      ]
     },
     "metadata": {},
     "output_type": "display_data"
    }
   ],
   "source": [
    "%tensorboard --logdir logs/scalars --port 6610"
   ]
  },
  {
   "cell_type": "code",
   "execution_count": 44,
   "id": "3fcd6bcd-67ba-4fc7-bb04-b7826fd97038",
   "metadata": {},
   "outputs": [
    {
     "data": {
      "text/html": [
       "\n",
       "      <iframe id=\"tensorboard-frame-b1db07bb82a7c11b\" width=\"100%\" height=\"800\" frameborder=\"0\">\n",
       "      </iframe>\n",
       "      <script>\n",
       "        (function() {\n",
       "          const frame = document.getElementById(\"tensorboard-frame-b1db07bb82a7c11b\");\n",
       "          const url = new URL(\"/\", window.location);\n",
       "          const port = 6611;\n",
       "          if (port) {\n",
       "            url.port = port;\n",
       "          }\n",
       "          frame.src = url;\n",
       "        })();\n",
       "      </script>\n",
       "    "
      ],
      "text/plain": [
       "<IPython.core.display.HTML object>"
      ]
     },
     "metadata": {},
     "output_type": "display_data"
    }
   ],
   "source": [
    "%tensorboard --logdir logs/scalars --port 6611"
   ]
  },
  {
   "cell_type": "markdown",
   "id": "a0efea12-b236-4dcc-ae57-c2c5f3244fff",
   "metadata": {},
   "source": [
    "## Prints dos modelos"
   ]
  },
  {
   "cell_type": "code",
   "execution_count": 38,
   "id": "83757bc6-0bea-4179-ab6d-ed5c934d26fd",
   "metadata": {},
   "outputs": [
    {
     "name": "stdout",
     "output_type": "stream",
     "text": [
      "313/313 [==============================] - 1s 3ms/step - loss: 1.3536 - accuracy: 0.8968\n",
      "Erro no teste:  1.3536\n",
      "Acurácia:  0.8968\n"
     ]
    }
   ],
   "source": [
    "score = modelo.evaluate(x_teste, y_teste)\n",
    "print('Erro no teste: ', round(score[0], 5))\n",
    "print('Acurácia: ', round(score[1], 5))"
   ]
  },
  {
   "cell_type": "code",
   "execution_count": 39,
   "id": "fc02af53-8141-4a2d-8fc3-63d3338f96e3",
   "metadata": {},
   "outputs": [
    {
     "name": "stdout",
     "output_type": "stream",
     "text": [
      "313/313 [==============================] - 1s 3ms/step - loss: 2.3201 - accuracy: 0.0842\n",
      "Erro no teste:  2.32013\n",
      "Acurácia:  0.0842\n"
     ]
    }
   ],
   "source": [
    "score = modelo2.evaluate(x_teste, y_teste)\n",
    "print('Erro no teste: ', round(score[0], 5))\n",
    "print('Acurácia: ', round(score[1], 5))"
   ]
  },
  {
   "cell_type": "code",
   "execution_count": 40,
   "id": "56978708-86c8-499d-a4e0-0f1313b3f26d",
   "metadata": {},
   "outputs": [
    {
     "name": "stdout",
     "output_type": "stream",
     "text": [
      "313/313 [==============================] - 1s 3ms/step - loss: 2.3075 - accuracy: 0.0728\n",
      "Erro no teste:  2.30751\n",
      "Acurácia:  0.0728\n"
     ]
    }
   ],
   "source": [
    "score = modelo3.evaluate(x_teste, y_teste)\n",
    "print('Erro no teste: ', round(score[0], 5))\n",
    "print('Acurácia: ', round(score[1], 5))"
   ]
  },
  {
   "cell_type": "code",
   "execution_count": 41,
   "id": "5c1e3b43-b447-4e1a-ba38-a218a831b5f3",
   "metadata": {},
   "outputs": [
    {
     "name": "stdout",
     "output_type": "stream",
     "text": [
      "313/313 [==============================] - 1s 3ms/step - loss: 2.3143 - accuracy: 0.0339\n",
      "Erro no teste:  2.31432\n",
      "Acurácia:  0.0339\n"
     ]
    }
   ],
   "source": [
    "score = modelo4.evaluate(x_teste, y_teste)\n",
    "print('Erro no teste: ', round(score[0], 5))\n",
    "print('Acurácia: ', round(score[1], 5))"
   ]
  },
  {
   "cell_type": "code",
   "execution_count": null,
   "id": "925e5b5e-d594-4de7-9431-576322a05cae",
   "metadata": {},
   "outputs": [],
   "source": [
    "## teste do modelo"
   ]
  },
  {
   "cell_type": "code",
   "execution_count": 61,
   "id": "593e04fa-c936-4b43-a9a4-47d77edf3bd9",
   "metadata": {},
   "outputs": [],
   "source": [
    "def preprocessa_img(img):\n",
    "    im = Image.open(img).convert('L')\n",
    "    im = im.resize((28, 28), Image.LANCZOS) \n",
    "    im = np.array(im).astype('float32') / 255\n",
    "    im = np.expand_dims(im, axis=-1) \n",
    "    im = np.expand_dims(im, axis=0)  \n",
    "    return im"
   ]
  },
  {
   "cell_type": "code",
   "execution_count": 62,
   "id": "961f37d8-b84b-496a-baeb-71553680a54f",
   "metadata": {},
   "outputs": [
    {
     "name": "stdout",
     "output_type": "stream",
     "text": [
      "1/1 [==============================] - 0s 27ms/step\n"
     ]
    }
   ],
   "source": [
    "path = 'C:/Users/user/visao_am/imagens_visao_am/salvas/'\n",
    "imagem = path + 'calca.png'\n",
    "roupa = preprocessa_img(imagem)\n",
    "predicao = modelo.predict(roupa)"
   ]
  },
  {
   "cell_type": "code",
   "execution_count": 63,
   "id": "f9de8812-194a-4551-a2e6-e0ff608c5da7",
   "metadata": {},
   "outputs": [
    {
     "name": "stdout",
     "output_type": "stream",
     "text": [
      "1/1 [==============================] - 0s 23ms/step\n"
     ]
    }
   ],
   "source": [
    "imagem2 = path+'camiseta-branca-frente.jpg'\n",
    "roupa2 = preprocessa_img(imagem2)\n",
    "predicao = modelo.predict(roupa2)"
   ]
  },
  {
   "cell_type": "code",
   "execution_count": 65,
   "id": "d76bf065-664d-4c3e-9ac8-203a86a6f420",
   "metadata": {},
   "outputs": [
    {
     "name": "stdout",
     "output_type": "stream",
     "text": [
      "Digito predito:[[7.1726120e-01 7.9968050e-09 2.9250173e-06 9.6418173e-04 5.2203782e-06\n",
      "  4.1580130e-27 7.6009836e-13 1.0163872e-27 2.8176647e-01 2.1475509e-08]]\n"
     ]
    }
   ],
   "source": [
    "print(f'Digito predito:{predicao}')"
   ]
  },
  {
   "cell_type": "code",
   "execution_count": 71,
   "id": "33968bc9-d20f-4f07-a0c4-d0064ca60303",
   "metadata": {},
   "outputs": [
    {
     "name": "stdout",
     "output_type": "stream",
     "text": [
      "     Modelo  Erro Teste  Acurácia Teste\n",
      "0  Modelo 1     1.35360          0.8968\n",
      "1  Modelo 2     2.32013          0.0842\n",
      "2  Modelo 3     2.30751          0.0728\n",
      "3  Modelo 4     2.31432          0.0339\n"
     ]
    }
   ],
   "source": [
    "modelos = [modelo, modelo2, modelo3, modelo4]\n",
    "nomes_modelos = [\"Modelo 1\", \"Modelo 2\", \"Modelo 3\", \"Modelo 4\"]\n",
    "resultados = []\n",
    "for nome, mod in zip(nomes_modelos, modelos):\n",
    "    score_teste = mod.evaluate(x_teste, y_teste, verbose=0) \n",
    "    resultados.append({\n",
    "        \"Modelo\": nome,\n",
    "        \"Erro Teste\": round(score_teste[0], 5),\n",
    "        \"Acurácia Teste\": round(score_teste[1], 5),\n",
    "    })\n",
    "tabela = pd.DataFrame(resultados)\n",
    "print(tabela)"
   ]
  }
 ],
 "metadata": {
  "kernelspec": {
   "display_name": "Python 3 (ipykernel)",
   "language": "python",
   "name": "python3"
  },
  "language_info": {
   "codemirror_mode": {
    "name": "ipython",
    "version": 3
   },
   "file_extension": ".py",
   "mimetype": "text/x-python",
   "name": "python",
   "nbconvert_exporter": "python",
   "pygments_lexer": "ipython3",
   "version": "3.10.14"
  }
 },
 "nbformat": 4,
 "nbformat_minor": 5
}
