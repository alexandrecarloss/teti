{
 "cells": [
  {
   "cell_type": "markdown",
   "id": "9eeee422-1e91-4e2c-95e3-6d33fe930a9e",
   "metadata": {},
   "source": [
    "Aula 7"
   ]
  },
  {
   "cell_type": "code",
   "execution_count": 24,
   "id": "6aa6905f-986d-4d90-8d45-581bdb1bfea7",
   "metadata": {},
   "outputs": [],
   "source": [
    "import cv2\n",
    "import numpy as np\n",
    "import matplotlib.pyplot as plt"
   ]
  },
  {
   "cell_type": "code",
   "execution_count": 30,
   "id": "c1b8a90a-3972-4b7d-a5ec-beceecb08173",
   "metadata": {},
   "outputs": [],
   "source": [
    "path_img = 'D:/Salve_Aqui_Seus_Arquivos/Carlos_Alexandre/2024-2/teti/teti_imagens/'"
   ]
  },
  {
   "cell_type": "code",
   "execution_count": 27,
   "id": "f3f1ddda-7067-4496-bc3a-88bf81126c69",
   "metadata": {},
   "outputs": [
    {
     "ename": "NameError",
     "evalue": "name 'cdw' is not defined",
     "output_type": "error",
     "traceback": [
      "\u001b[1;31m---------------------------------------------------------------------------\u001b[0m",
      "\u001b[1;31mNameError\u001b[0m                                 Traceback (most recent call last)",
      "Cell \u001b[1;32mIn[27], line 1\u001b[0m\n\u001b[1;32m----> 1\u001b[0m \u001b[43mcdw\u001b[49m\n",
      "\u001b[1;31mNameError\u001b[0m: name 'cdw' is not defined"
     ]
    }
   ],
   "source": []
  },
  {
   "cell_type": "code",
   "execution_count": 5,
   "id": "ad425816-a2a4-4bde-abd8-71cd037b6ef7",
   "metadata": {},
   "outputs": [],
   "source": [
    "def plot_2img(img1, tit1, im2, tit2, tam, ticks = False):\n",
    "    plt.figure(figsize = tam)\n",
    "    plt.subplot(1,2,1), plt.imshow(im1), plt.title(tit1)\n",
    "    if ticks:\n",
    "        plt.xticks([]), plt.yticks([])\n",
    "    plt.subplot(1,2,2), plt.imshow(im2), plt.title(tit2)\n",
    "    if not ticks:\n",
    "        plt.xticks([]), plt.yticks([])\n",
    "    plt.show()\n",
    "\n",
    "def plot_3img(im1, tit1, im2, tit2, im3, tit3, tam, ticks = False):\n",
    "    plt.figure(figsize = tam)\n",
    "    plt.subplot(1,3,1), plt.imshow(im1, cmap = \"gray\"), plt.title(tit1)\n",
    "    plt.xticks([]), plt.yticks([])\n",
    "    plt.subplot(1,3,2), plt.imshow(im2, cmap = \"gray\"), plt.title(tit2)\n",
    "    plt.xticks([]), plt.yticks([])\n",
    "    plt.subplot(1,3,3), plt.imshow(im3, cmap = \"gray\"), plt.title(tit3)\n",
    "    plt.xticks([]), plt.yticks([])\n",
    "    plt.show()"
   ]
  },
  {
   "cell_type": "code",
   "execution_count": 31,
   "id": "ebf5d0b0-2ca3-4026-a00d-f4fcdc51382c",
   "metadata": {},
   "outputs": [],
   "source": [
    "im_1 = cv2.imread(path_img + 'pinguim.jpeg')"
   ]
  },
  {
   "cell_type": "code",
   "execution_count": null,
   "id": "c6cd49ad-85c2-40c9-a489-8070d25f96b8",
   "metadata": {},
   "outputs": [],
   "source": []
  },
  {
   "cell_type": "code",
   "execution_count": 32,
   "id": "c80ffdb3-ac5b-41b6-bcb3-7d909be390ea",
   "metadata": {},
   "outputs": [
    {
     "ename": "error",
     "evalue": "OpenCV(4.10.0) D:\\a\\opencv-python\\opencv-python\\opencv\\modules\\imgproc\\src\\color.cpp:196: error: (-215:Assertion failed) !_src.empty() in function 'cv::cvtColor'\n",
     "output_type": "error",
     "traceback": [
      "\u001b[1;31m---------------------------------------------------------------------------\u001b[0m",
      "\u001b[1;31merror\u001b[0m                                     Traceback (most recent call last)",
      "Cell \u001b[1;32mIn[32], line 1\u001b[0m\n\u001b[1;32m----> 1\u001b[0m im_1 \u001b[38;5;241m=\u001b[39m \u001b[43mcv2\u001b[49m\u001b[38;5;241;43m.\u001b[39;49m\u001b[43mcvtColor\u001b[49m\u001b[43m(\u001b[49m\u001b[43mim_1\u001b[49m\u001b[43m,\u001b[49m\u001b[43m \u001b[49m\u001b[43mcv2\u001b[49m\u001b[38;5;241;43m.\u001b[39;49m\u001b[43mCOLOR_BGR2RGB\u001b[49m\u001b[43m)\u001b[49m\n",
      "\u001b[1;31merror\u001b[0m: OpenCV(4.10.0) D:\\a\\opencv-python\\opencv-python\\opencv\\modules\\imgproc\\src\\color.cpp:196: error: (-215:Assertion failed) !_src.empty() in function 'cv::cvtColor'\n"
     ]
    }
   ],
   "source": [
    "im_1 = cv2.cvtColor(im_1, cv2.COLOR_BGR2RGB)"
   ]
  },
  {
   "cell_type": "code",
   "execution_count": 21,
   "id": "2e3933df-a03e-468a-bcde-df2d673b98b2",
   "metadata": {},
   "outputs": [
    {
     "ename": "NameError",
     "evalue": "name 'im1' is not defined",
     "output_type": "error",
     "traceback": [
      "\u001b[1;31m---------------------------------------------------------------------------\u001b[0m",
      "\u001b[1;31mNameError\u001b[0m                                 Traceback (most recent call last)",
      "Cell \u001b[1;32mIn[21], line 1\u001b[0m\n\u001b[1;32m----> 1\u001b[0m \u001b[43mplot_2img\u001b[49m\u001b[43m(\u001b[49m\u001b[43mim_1\u001b[49m\u001b[43m,\u001b[49m\u001b[43m \u001b[49m\u001b[38;5;124;43m'\u001b[39;49m\u001b[38;5;124;43mOriginal\u001b[39;49m\u001b[38;5;124;43m'\u001b[39;49m\u001b[43m,\u001b[49m\u001b[43m \u001b[49m\u001b[43mim_1\u001b[49m\u001b[43m,\u001b[49m\u001b[43m \u001b[49m\u001b[38;5;124;43m'\u001b[39;49m\u001b[38;5;124;43mOriginal\u001b[39;49m\u001b[38;5;124;43m'\u001b[39;49m\u001b[43m,\u001b[49m\u001b[43m \u001b[49m\u001b[43m(\u001b[49m\u001b[38;5;241;43m12\u001b[39;49m\u001b[43m,\u001b[49m\u001b[43m \u001b[49m\u001b[38;5;241;43m10\u001b[39;49m\u001b[43m)\u001b[49m\u001b[43m)\u001b[49m\n",
      "Cell \u001b[1;32mIn[5], line 3\u001b[0m, in \u001b[0;36mplot_2img\u001b[1;34m(img1, tit1, im2, tit2, tam)\u001b[0m\n\u001b[0;32m      1\u001b[0m \u001b[38;5;28;01mdef\u001b[39;00m \u001b[38;5;21mplot_2img\u001b[39m(img1, tit1, im2, tit2, tam):\n\u001b[0;32m      2\u001b[0m     plt\u001b[38;5;241m.\u001b[39mfigure(figsize \u001b[38;5;241m=\u001b[39m tam)\n\u001b[1;32m----> 3\u001b[0m     plt\u001b[38;5;241m.\u001b[39msubplot(\u001b[38;5;241m1\u001b[39m,\u001b[38;5;241m2\u001b[39m,\u001b[38;5;241m1\u001b[39m), plt\u001b[38;5;241m.\u001b[39mimshow(\u001b[43mim1\u001b[49m), plt\u001b[38;5;241m.\u001b[39mtitle(tit1)\n\u001b[0;32m      4\u001b[0m     plt\u001b[38;5;241m.\u001b[39mxticks([]), plt\u001b[38;5;241m.\u001b[39myticks([])\n\u001b[0;32m      5\u001b[0m     plt\u001b[38;5;241m.\u001b[39msubplot(\u001b[38;5;241m1\u001b[39m,\u001b[38;5;241m2\u001b[39m,\u001b[38;5;241m2\u001b[39m), plt\u001b[38;5;241m.\u001b[39mimshow(im2), plt\u001b[38;5;241m.\u001b[39mtitle(tit2)\n",
      "\u001b[1;31mNameError\u001b[0m: name 'im1' is not defined"
     ]
    },
    {
     "data": {
      "image/png": "[encoded data removed]",
      "text/plain": [
       "<Figure size 1200x1000 with 1 Axes>"
      ]
     },
     "metadata": {},
     "output_type": "display_data"
    }
   ],
   "source": [
    "plot_2img(im_1, 'Original', im_1, 'Original', (12, 10))"
   ]
  }
 ],
 "metadata": {
  "kernelspec": {
   "display_name": "Python 3 (ipykernel)",
   "language": "python",
   "name": "python3"
  },
  "language_info": {
   "codemirror_mode": {
    "name": "ipython",
    "version": 3
   },
   "file_extension": ".py",
   "mimetype": "text/x-python",
   "name": "python",
   "nbconvert_exporter": "python",
   "pygments_lexer": "ipython3",
   "version": "3.10.14"
  }
 },
 "nbformat": 4,
 "nbformat_minor": 5
}
