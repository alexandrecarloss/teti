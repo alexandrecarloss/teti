{
 "cells": [
  {
   "cell_type": "code",
   "execution_count": null,
   "id": "5cad2a6e-450a-42e5-962d-48bc64376ed5",
   "metadata": {},
   "outputs": [],
   "source": [
    "ls"
   ]
  },
  {
   "cell_type": "code",
   "execution_count": null,
   "id": "ca0df2f0-fe8d-4e3b-9749-8085e7c83084",
   "metadata": {},
   "outputs": [],
   "source": [
    "pwd"
   ]
  },
  {
   "cell_type": "code",
   "execution_count": 2,
   "id": "57e2c0cf-5ed0-465c-be4f-4ed4660d3625",
   "metadata": {},
   "outputs": [
    {
     "name": "stdout",
     "output_type": "stream",
     "text": [
      "hello world\n"
     ]
    }
   ],
   "source": [
    "print(\"hello world\")"
   ]
  },
  {
   "cell_type": "code",
   "execution_count": 3,
   "id": "86b6a824-85f3-4765-a08a-86daa31fd3b1",
   "metadata": {},
   "outputs": [
    {
     "data": {
      "text/plain": [
       "1476"
      ]
     },
     "execution_count": 3,
     "metadata": {},
     "output_type": "execute_result"
    }
   ],
   "source": [
    "123*12"
   ]
  },
  {
   "cell_type": "code",
   "execution_count": null,
   "id": "9b29cc5c-52f4-4473-b457-60bb6a207f7d",
   "metadata": {},
   "outputs": [],
   "source": [
    "a  = 'Visao computacional'"
   ]
  },
  {
   "cell_type": "code",
   "execution_count": null,
   "id": "fedbe22a-3750-456f-8af6-2d65999db7da",
   "metadata": {},
   "outputs": [],
   "source": [
    "print(a)\n"
   ]
  },
  {
   "cell_type": "code",
   "execution_count": null,
   "id": "63b54474-87da-4166-a09d-335e89c938fb",
   "metadata": {},
   "outputs": [],
   "source": [
    "x = 100\n",
    "y = 230\n",
    "z = 235\n"
   ]
  },
  {
   "cell_type": "code",
   "execution_count": null,
   "id": "0f9016e8-4f5e-4410-abd5-1c2797d51913",
   "metadata": {},
   "outputs": [],
   "source": [
    "k = x*y/z"
   ]
  },
  {
   "cell_type": "code",
   "execution_count": null,
   "id": "c02530d7-e070-4c22-b67e-ea0cbc8f1228",
   "metadata": {},
   "outputs": [],
   "source": [
    "print(k)"
   ]
  },
  {
   "cell_type": "code",
   "execution_count": null,
   "id": "44021a7a-1a4f-4206-8308-1970c6953fe0",
   "metadata": {},
   "outputs": [],
   "source": [
    "b = 5."
   ]
  },
  {
   "cell_type": "code",
   "execution_count": null,
   "id": "f5931f50-1111-4a91-a7ea-8eed14f4c31f",
   "metadata": {},
   "outputs": [],
   "source": [
    "v = ' Aprendizado de maquina'"
   ]
  },
  {
   "cell_type": "code",
   "execution_count": null,
   "id": "cd45a53e-8bed-4c21-a7e2-6ca37c735129",
   "metadata": {},
   "outputs": [],
   "source": [
    "a1 = a + v"
   ]
  },
  {
   "cell_type": "code",
   "execution_count": null,
   "id": "7a10bfdb-7430-49fa-addc-d3b8d0e9a71f",
   "metadata": {},
   "outputs": [],
   "source": [
    "print(a1)"
   ]
  },
  {
   "cell_type": "code",
   "execution_count": 4,
   "id": "beb1a00d-ee98-4b11-bc92-80b6dc944107",
   "metadata": {},
   "outputs": [],
   "source": [
    "lst1 = ['Manaus', 'Sao Paulo', 'Rio de Janeiro', 'Brasilia']"
   ]
  },
  {
   "cell_type": "code",
   "execution_count": null,
   "id": "c4d8cfae-5a37-4bd2-8cfb-e6ed32eee5d5",
   "metadata": {},
   "outputs": [],
   "source": [
    "lst1"
   ]
  },
  {
   "cell_type": "code",
   "execution_count": 5,
   "id": "a16eb148-2db4-40b6-8d9f-b408a643dc9d",
   "metadata": {},
   "outputs": [],
   "source": [
    "lst2 =['Miami', 'Barcelona', 'Tokio']"
   ]
  },
  {
   "cell_type": "code",
   "execution_count": null,
   "id": "b2b61571-a6a3-4f68-9d6c-dacd864709d7",
   "metadata": {},
   "outputs": [],
   "source": [
    "lst1+lst2"
   ]
  },
  {
   "cell_type": "code",
   "execution_count": 6,
   "id": "a140445d-e436-444f-a555-e6265c1675bf",
   "metadata": {},
   "outputs": [],
   "source": [
    "lst_x=lst1+lst2"
   ]
  },
  {
   "cell_type": "code",
   "execution_count": 7,
   "id": "e17df4a6-71f0-4db0-85af-5a0dcb46b9ed",
   "metadata": {},
   "outputs": [
    {
     "data": {
      "text/plain": [
       "'Manaus'"
      ]
     },
     "execution_count": 7,
     "metadata": {},
     "output_type": "execute_result"
    }
   ],
   "source": [
    "lst_x[0]"
   ]
  },
  {
   "cell_type": "code",
   "execution_count": null,
   "id": "3f557868-cacd-480c-bf37-b9ab392fb78b",
   "metadata": {},
   "outputs": [],
   "source": [
    "lst_x[0:3]"
   ]
  },
  {
   "cell_type": "code",
   "execution_count": null,
   "id": "eaa388bd-2927-4d23-abb1-f31151b4402b",
   "metadata": {},
   "outputs": [],
   "source": [
    "tpl1 = ('Manaus', 'Sao Paulo', 'Rio de Janeiro', 'Brasilia')"
   ]
  },
  {
   "cell_type": "code",
   "execution_count": null,
   "id": "b9a63c32-beff-4a2b-9d17-b0281e8e2a79",
   "metadata": {},
   "outputs": [],
   "source": [
    "tpl1"
   ]
  },
  {
   "cell_type": "code",
   "execution_count": null,
   "id": "35b7172b-8ec8-4049-8e5c-d22001dd5b8f",
   "metadata": {},
   "outputs": [],
   "source": [
    "lst_x.append('Manacapuru')"
   ]
  },
  {
   "cell_type": "code",
   "execution_count": null,
   "id": "363d7d9c-86be-49e8-8904-81e6a43fa641",
   "metadata": {},
   "outputs": [],
   "source": [
    "lst_x"
   ]
  },
  {
   "cell_type": "code",
   "execution_count": null,
   "id": "7afbd5fa-eede-4701-80f6-c88e67b991df",
   "metadata": {},
   "outputs": [],
   "source": [
    "lst_x.pop()"
   ]
  },
  {
   "cell_type": "code",
   "execution_count": null,
   "id": "4feaddc7-2d53-4b3a-a88b-432ac93f3f07",
   "metadata": {},
   "outputs": [],
   "source": [
    "lst_x"
   ]
  },
  {
   "cell_type": "code",
   "execution_count": null,
   "id": "0d4ae87d-28b2-4305-9c6f-daae2f2888a0",
   "metadata": {},
   "outputs": [],
   "source": [
    "lst_x.insert(1, 'Itacoatiara')"
   ]
  },
  {
   "cell_type": "code",
   "execution_count": null,
   "id": "0bf74f2a-6410-4025-ab98-d69dbe7c9fe2",
   "metadata": {},
   "outputs": [],
   "source": [
    "lst_x"
   ]
  },
  {
   "cell_type": "code",
   "execution_count": null,
   "id": "4a2d6774-75bd-44da-9d5e-844b551549e2",
   "metadata": {},
   "outputs": [],
   "source": [
    "lst_x.remove('Miami')"
   ]
  },
  {
   "cell_type": "code",
   "execution_count": null,
   "id": "75e976f9-8169-4a6b-b0a6-ac60ca61ba65",
   "metadata": {},
   "outputs": [],
   "source": [
    "lst_x"
   ]
  },
  {
   "cell_type": "code",
   "execution_count": null,
   "id": "8329c4f4-6cfd-4da9-9a7b-6c1ea5c486f4",
   "metadata": {},
   "outputs": [],
   "source": [
    "e1 = input('Entre com valor numerico')"
   ]
  },
  {
   "cell_type": "code",
   "execution_count": null,
   "id": "c1516809-b68e-4b35-9160-d8e4a7471621",
   "metadata": {},
   "outputs": [],
   "source": [
    "e1"
   ]
  },
  {
   "cell_type": "code",
   "execution_count": null,
   "id": "ecc5e550-7df9-4730-be1f-eb20cf91f0fd",
   "metadata": {},
   "outputs": [],
   "source": [
    "type(e1)"
   ]
  },
  {
   "cell_type": "code",
   "execution_count": null,
   "id": "a10a2964-5531-47ba-81bc-88eadbf37754",
   "metadata": {},
   "outputs": [],
   "source": [
    "e2 = input('Entre com valor numerico')"
   ]
  },
  {
   "cell_type": "code",
   "execution_count": null,
   "id": "4b8f0656-94b1-411d-a4e8-5a34bb9394ca",
   "metadata": {},
   "outputs": [],
   "source": [
    "path = 'D:/DataSet/'"
   ]
  },
  {
   "cell_type": "code",
   "execution_count": null,
   "id": "0ea578dc-55ed-4905-8e8c-4dbf8586e05b",
   "metadata": {},
   "outputs": [],
   "source": [
    "import pandas as pd"
   ]
  },
  {
   "cell_type": "code",
   "execution_count": null,
   "id": "ec31ff67-94c0-4288-a241-cf6cb63ed0cd",
   "metadata": {},
   "outputs": [],
   "source": [
    "df_1 = pd.read_csv(path + 'london.csv')"
   ]
  },
  {
   "cell_type": "code",
   "execution_count": null,
   "id": "2a82e894-ad3b-451c-9ed7-2d966e6f8e51",
   "metadata": {},
   "outputs": [],
   "source": [
    "df_1.info()"
   ]
  },
  {
   "cell_type": "code",
   "execution_count": null,
   "id": "0721a3b8-8635-4971-b830-21d9bf50c2d2",
   "metadata": {},
   "outputs": [],
   "source": [
    "df_1.describe()"
   ]
  },
  {
   "cell_type": "code",
   "execution_count": null,
   "id": "8366b0ee-fde7-478c-b989-2531eb005ef9",
   "metadata": {},
   "outputs": [],
   "source": [
    "df_1.head()"
   ]
  },
  {
   "cell_type": "code",
   "execution_count": null,
   "id": "06d14dbd-9ca4-4388-afc1-3062e837f68b",
   "metadata": {},
   "outputs": [],
   "source": [
    "df_1.tail()"
   ]
  },
  {
   "cell_type": "code",
   "execution_count": null,
   "id": "c23a366b-0678-408d-a3d4-229d84cf2750",
   "metadata": {},
   "outputs": [],
   "source": [
    "df_1[['Sport', 'Age', 'Sex']]"
   ]
  },
  {
   "cell_type": "code",
   "execution_count": null,
   "id": "7fb021a7-e12a-4174-bcc6-e1c83f13d80f",
   "metadata": {},
   "outputs": [],
   "source": []
  }
 ],
 "metadata": {
  "kernelspec": {
   "display_name": "Python 3 (ipykernel)",
   "language": "python",
   "name": "python3"
  },
  "language_info": {
   "codemirror_mode": {
    "name": "ipython",
    "version": 3
   },
   "file_extension": ".py",
   "mimetype": "text/x-python",
   "name": "python",
   "nbconvert_exporter": "python",
   "pygments_lexer": "ipython3",
   "version": "3.10.14"
  }
 },
 "nbformat": 4,
 "nbformat_minor": 5
}
