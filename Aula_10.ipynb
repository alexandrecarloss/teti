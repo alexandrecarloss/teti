{
 "cells": [
  {
   "cell_type": "code",
   "execution_count": 1,
   "id": "6fd59112-b4e1-4c01-90b6-c3742e23921b",
   "metadata": {},
   "outputs": [],
   "source": [
    "import cv2\n",
    "import numpy as np\n",
    "from PIL import Image, ImageOps\n",
    "import matplotlib.pyplot as plt\n",
    "from IPython.display import display, Image"
   ]
  },
  {
   "cell_type": "code",
   "execution_count": 2,
   "id": "45c237f0-f741-41a8-8345-fdcf27751069",
   "metadata": {},
   "outputs": [],
   "source": [
    "path = 'D:/Salve_Aqui_Seus_Arquivos/Carlos_Alexandre/2024-2/teti/teti_imagens/'"
   ]
  },
  {
   "cell_type": "code",
   "execution_count": 3,
   "id": "c9fc74cf-8bc6-4da3-8794-84fb02ba34f4",
   "metadata": {},
   "outputs": [],
   "source": [
    "video = path + 'mont_russa.mp4'"
   ]
  },
  {
   "cell_type": "code",
   "execution_count": 7,
   "id": "ac2b3ebc-3b8d-478b-80d8-66c253d1cea1",
   "metadata": {},
   "outputs": [],
   "source": [
    "k_laplace = np.array([[0, 1, 0], [1, -4, 1], [0, 1, 0]], dtype = np.float32)\n",
    "\n",
    "modo = 'color'\n",
    "\n",
    "cap = cv2.VideoCapture(video)\n",
    "while True:\n",
    "    ret, frame = cap.read()\n",
    "    if not ret:\n",
    "        cap.set(cv2.CAP_PROP_POS_FRAMES, 0)\n",
    "        continue\n",
    "    if modo == 'gray':\n",
    "        frame_alterado = cv2.cvtColor(frame, cv2.COLOR_BGR2GRAY)\n",
    "    elif modo == 'binary':\n",
    "        gray = cv2.cvtColor(frame, cv2.COLOR_BGR2GRAY)\n",
    "        _, frame_alterado = cv2.threshold(gray, 120, 255, cv2.THRESH_BINARY)\n",
    "    elif modo == 'laplace':\n",
    "        gray = cv2.cvtColor(frame, cv2.COLOR_BGR2GRAY)\n",
    "        frame_alterado = cv2.filter2D(gray, -1, k_laplace)\n",
    "    else:\n",
    "        frame_alterado = frame\n",
    "    cv2.imshow('Frame', frame_alterado)\n",
    "\n",
    "    key = cv2.waitKey(10) & 0xFF\n",
    "\n",
    "    if key == ord('g'):\n",
    "        modo = 'gray'\n",
    "    elif key == ord('b'):\n",
    "        modo = 'binary'\n",
    "    elif key == ord('c'):\n",
    "        modo = 'color'\n",
    "    elif key == ord('l'):\n",
    "        modo = 'laplace'\n",
    "    elif key == ord('q'):\n",
    "        break\n",
    "cap.release()\n",
    "cv2.destroyAllWindows()\n",
    "        \n",
    "        "
   ]
  },
  {
   "cell_type": "code",
   "execution_count": null,
   "id": "376db905-cc9f-44a3-b002-cae42ffd1592",
   "metadata": {},
   "outputs": [],
   "source": [
    "modo = 'color'"
   ]
  }
 ],
 "metadata": {
  "kernelspec": {
   "display_name": "Python 3 (ipykernel)",
   "language": "python",
   "name": "python3"
  },
  "language_info": {
   "codemirror_mode": {
    "name": "ipython",
    "version": 3
   },
   "file_extension": ".py",
   "mimetype": "text/x-python",
   "name": "python",
   "nbconvert_exporter": "python",
   "pygments_lexer": "ipython3",
   "version": "3.10.14"
  }
 },
 "nbformat": 4,
 "nbformat_minor": 5
}
