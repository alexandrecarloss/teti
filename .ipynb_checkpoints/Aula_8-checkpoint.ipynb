{
 "cells": [
  {
   "cell_type": "code",
   "execution_count": 12,
   "id": "e81bd47a-65f0-472a-9358-1013b6e25e23",
   "metadata": {},
   "outputs": [],
   "source": [
    "import cv2\n",
    "import numpy as np\n",
    "import matplotlib.pyplot as plt"
   ]
  },
  {
   "cell_type": "code",
   "execution_count": 2,
   "id": "357031f8-193f-4cf4-b8a8-4fba62351a22",
   "metadata": {},
   "outputs": [],
   "source": [
    "path_img = 'D:/Salve_Aqui_Seus_Arquivos/Carlos_Alexandre/2024-2/teti/teti_imagens/'"
   ]
  },
  {
   "cell_type": "code",
   "execution_count": 14,
   "id": "4a8a1f86-d7d2-4046-92bf-6e57d138d6b4",
   "metadata": {},
   "outputs": [],
   "source": [
    "im_1 = cv2.imread(path_img + 'mesa_1.jpg')"
   ]
  },
  {
   "cell_type": "code",
   "execution_count": 15,
   "id": "15c77272-5925-4e55-8d62-13b7136784e8",
   "metadata": {},
   "outputs": [],
   "source": [
    "im_2 = cv2.imread(path_img + 'mesa_2.jpg')"
   ]
  },
  {
   "cell_type": "code",
   "execution_count": 18,
   "id": "85a535da-3e60-4985-afdb-51e50ae31109",
   "metadata": {},
   "outputs": [],
   "source": [
    "im_3 = im_1 + 100"
   ]
  },
  {
   "cell_type": "code",
   "execution_count": 25,
   "id": "dc8a62a7-afc1-433a-9d5e-2c6060d07373",
   "metadata": {},
   "outputs": [],
   "source": [
    "im_4 = im_1 - im_2"
   ]
  },
  {
   "cell_type": "code",
   "execution_count": 17,
   "id": "1259a446-30e3-460b-976d-9cded3a16eb6",
   "metadata": {},
   "outputs": [],
   "source": [
    "def plot_im2(im1, tit1, im2, tit2, tam, ticks = False):\n",
    "    plt.figure(figsize = tam)\n",
    "    plt.subplot(1,2,1), plt.imshow(im1), plt.title(tit1)\n",
    "    if ticks:\n",
    "        plt.xticks([]), plt.yticks([])\n",
    "    plt.subplot(1,2,2), plt.imshow(im2), plt.title(tit2)\n",
    "    if not ticks:\n",
    "        plt.xticks([]), plt.yticks([])\n",
    "    plt.show()"
   ]
  },
  {
   "cell_type": "code",
   "execution_count": 26,
   "id": "c5f167e3-1302-4bbf-9921-0d547880952a",
   "metadata": {},
   "outputs": [],
   "source": [
    "cv2.imshow('Resultado', np.hstack((im_1, im_2, im_4)))\n",
    "cv2.waitKey(0)\n",
    "cv2.destroyAllWindows()"
   ]
  },
  {
   "cell_type": "code",
   "execution_count": 24,
   "id": "f0fbbdbd-a175-41bd-b068-d94f57330027",
   "metadata": {},
   "outputs": [],
   "source": [
    "im_4 = im_2 - im_1"
   ]
  },
  {
   "cell_type": "code",
   "execution_count": 27,
   "id": "0f99ed3b-4c9f-422d-9f07-b07cdaadaae1",
   "metadata": {},
   "outputs": [],
   "source": [
    "im_5 = cv2.imread(path_img + 'fusca_placa.jpg')"
   ]
  },
  {
   "cell_type": "code",
   "execution_count": null,
   "id": "fd4ef32f-11f7-429d-8f17-64876e0fd7fa",
   "metadata": {},
   "outputs": [],
   "source": []
  }
 ],
 "metadata": {
  "kernelspec": {
   "display_name": "Python 3 (ipykernel)",
   "language": "python",
   "name": "python3"
  },
  "language_info": {
   "codemirror_mode": {
    "name": "ipython",
    "version": 3
   },
   "file_extension": ".py",
   "mimetype": "text/x-python",
   "name": "python",
   "nbconvert_exporter": "python",
   "pygments_lexer": "ipython3",
   "version": "3.10.14"
  }
 },
 "nbformat": 4,
 "nbformat_minor": 5
}
